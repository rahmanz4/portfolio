{
 "cells": [
  {
   "cell_type": "code",
   "execution_count": 162,
   "metadata": {},
   "outputs": [
    {
     "name": "stdout",
     "output_type": "stream",
     "text": [
      "Requirement already satisfied: scikit-plot in c:\\programdata\\anaconda3\\lib\\site-packages (0.3.7)\n",
      "Requirement already satisfied: joblib>=0.10 in c:\\programdata\\anaconda3\\lib\\site-packages (from scikit-plot) (0.13.2)\n",
      "Requirement already satisfied: scikit-learn>=0.18 in c:\\programdata\\anaconda3\\lib\\site-packages (from scikit-plot) (0.21.2)\n",
      "Requirement already satisfied: matplotlib>=1.4.0 in c:\\programdata\\anaconda3\\lib\\site-packages (from scikit-plot) (3.1.0)\n",
      "Requirement already satisfied: scipy>=0.9 in c:\\programdata\\anaconda3\\lib\\site-packages (from scikit-plot) (1.2.1)\n",
      "Requirement already satisfied: numpy>=1.11.0 in c:\\programdata\\anaconda3\\lib\\site-packages (from scikit-learn>=0.18->scikit-plot) (1.16.4)\n",
      "Requirement already satisfied: cycler>=0.10 in c:\\programdata\\anaconda3\\lib\\site-packages (from matplotlib>=1.4.0->scikit-plot) (0.10.0)\n",
      "Requirement already satisfied: kiwisolver>=1.0.1 in c:\\programdata\\anaconda3\\lib\\site-packages (from matplotlib>=1.4.0->scikit-plot) (1.1.0)\n",
      "Requirement already satisfied: pyparsing!=2.0.4,!=2.1.2,!=2.1.6,>=2.0.1 in c:\\programdata\\anaconda3\\lib\\site-packages (from matplotlib>=1.4.0->scikit-plot) (2.4.0)\n",
      "Requirement already satisfied: python-dateutil>=2.1 in c:\\programdata\\anaconda3\\lib\\site-packages (from matplotlib>=1.4.0->scikit-plot) (2.8.0)\n",
      "Requirement already satisfied: six in c:\\programdata\\anaconda3\\lib\\site-packages (from cycler>=0.10->matplotlib>=1.4.0->scikit-plot) (1.12.0)\n",
      "Requirement already satisfied: setuptools in c:\\programdata\\anaconda3\\lib\\site-packages (from kiwisolver>=1.0.1->matplotlib>=1.4.0->scikit-plot) (41.0.1)\n",
      "Note: you may need to restart the kernel to use updated packages.\n"
     ]
    }
   ],
   "source": [
    "pip install scikit-plot"
   ]
  },
  {
   "cell_type": "code",
   "execution_count": 163,
   "metadata": {},
   "outputs": [
    {
     "name": "stdout",
     "output_type": "stream",
     "text": [
      "Requirement already satisfied: wordcloud in c:\\programdata\\anaconda3\\lib\\site-packages (1.5.0)\n",
      "Requirement already satisfied: numpy>=1.6.1 in c:\\programdata\\anaconda3\\lib\\site-packages (from wordcloud) (1.16.4)\n",
      "Requirement already satisfied: pillow in c:\\programdata\\anaconda3\\lib\\site-packages (from wordcloud) (6.1.0)\n",
      "Note: you may need to restart the kernel to use updated packages.\n"
     ]
    }
   ],
   "source": [
    "pip install wordcloud"
   ]
  },
  {
   "cell_type": "code",
   "execution_count": 164,
   "metadata": {},
   "outputs": [
    {
     "name": "stdout",
     "output_type": "stream",
     "text": [
      "Requirement already satisfied: xgboost in c:\\programdata\\anaconda3\\lib\\site-packages (0.90)\n",
      "Requirement already satisfied: scipy in c:\\programdata\\anaconda3\\lib\\site-packages (from xgboost) (1.2.1)\n",
      "Requirement already satisfied: numpy in c:\\programdata\\anaconda3\\lib\\site-packages (from xgboost) (1.16.4)\n",
      "Note: you may need to restart the kernel to use updated packages.\n"
     ]
    }
   ],
   "source": [
    "pip install xgboost"
   ]
  },
  {
   "cell_type": "code",
   "execution_count": 165,
   "metadata": {
    "colab": {},
    "colab_type": "code",
    "id": "FWvAqX3EEIMW"
   },
   "outputs": [],
   "source": [
    "# Import general useful packages\n",
    "import numpy as np\n",
    "import pandas as pd\n",
    "import re\n",
    "\n",
    "# Counter elements \n",
    "from collections import Counter\n",
    "\n",
    "# Matplot\n",
    "import matplotlib.pyplot as plt\n",
    "%matplotlib inline\n",
    "\n",
    "# nltk\n",
    "import nltk\n",
    "from nltk.corpus import stopwords\n",
    "from  nltk.stem import SnowballStemmer\n",
    "from nltk.stem import WordNetLemmatizer #word stemmer class\n",
    "lemma = WordNetLemmatizer()\n",
    "from wordcloud import WordCloud, STOPWORDS\n",
    "from nltk import FreqDist \n",
    "\n",
    "# Import matplotlib for visualisations\n",
    "import matplotlib.pyplot as plt\n",
    "import matplotlib.cm as cm\n",
    "import seaborn as sns\n",
    "import scikitplot as skplt\n",
    "\n",
    "# Import all machine learning algorithms\n",
    "from sklearn.svm import SVC\n",
    "from sklearn.linear_model import LogisticRegression\n",
    "from sklearn.neighbors import KNeighborsClassifier\n",
    "from sklearn.naive_bayes import GaussianNB\n",
    "from sklearn.tree import DecisionTreeClassifier\n",
    "from sklearn.ensemble import RandomForestClassifier\n",
    "from sklearn.ensemble import GradientBoostingClassifier\n",
    "import xgboost as xgb\n",
    "\n",
    "# Import other useful subpackage\n",
    "from sklearn.metrics import confusion_matrix, accuracy_score, classification_report"
   ]
  },
  {
   "cell_type": "code",
   "execution_count": 166,
   "metadata": {
    "colab": {
     "base_uri": "https://localhost:8080/",
     "height": 74,
     "resources": {
      "http://localhost:8080/nbextensions/google.colab/files.js": {
       "data": "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",
       "headers": [
        [
         "content-type",
         "application/javascript"
        ]
       ],
       "ok": true,
       "status": 200,
       "status_text": ""
      }
     }
    },
    "colab_type": "code",
    "id": "rumOBXs-E5TD",
    "outputId": "c78ce6a3-3d66-45be-c07f-f89c87b2d84f"
   },
   "outputs": [],
   "source": [
    "# Required if Uploading data directly into google colab\n",
    "# from google.colab import files\n",
    "# df = files.upload()"
   ]
  },
  {
   "cell_type": "code",
   "execution_count": 167,
   "metadata": {
    "colab": {
     "base_uri": "https://localhost:8080/",
     "height": 204
    },
    "colab_type": "code",
    "id": "UBKnOBgWFqqL",
    "outputId": "8be5643e-cc2e-4f3f-aea2-41e3865ef558"
   },
   "outputs": [],
   "source": [
    "# Calling the Generic Tweets dataset\n",
    "# import io\n",
    "# df2 = pd.read_csv(io.BytesIO(df['generic_tweets.txt']))\n",
    "# df2.head(n=5)"
   ]
  },
  {
   "cell_type": "markdown",
   "metadata": {},
   "source": [
    "### Data Import & Cleaning - Generic Tweets"
   ]
  },
  {
   "cell_type": "code",
   "execution_count": 168,
   "metadata": {},
   "outputs": [
    {
     "data": {
      "text/html": [
       "<div>\n",
       "<style scoped>\n",
       "    .dataframe tbody tr th:only-of-type {\n",
       "        vertical-align: middle;\n",
       "    }\n",
       "\n",
       "    .dataframe tbody tr th {\n",
       "        vertical-align: top;\n",
       "    }\n",
       "\n",
       "    .dataframe thead th {\n",
       "        text-align: right;\n",
       "    }\n",
       "</style>\n",
       "<table border=\"1\" class=\"dataframe\">\n",
       "  <thead>\n",
       "    <tr style=\"text-align: right;\">\n",
       "      <th></th>\n",
       "      <th>class</th>\n",
       "      <th>id</th>\n",
       "      <th>date</th>\n",
       "      <th>query</th>\n",
       "      <th>user</th>\n",
       "      <th>text</th>\n",
       "    </tr>\n",
       "  </thead>\n",
       "  <tbody>\n",
       "    <tr>\n",
       "      <th>0</th>\n",
       "      <td>0</td>\n",
       "      <td>1467810369</td>\n",
       "      <td>Mon Apr 06 22:19:45 PDT 2009</td>\n",
       "      <td>NO_QUERY</td>\n",
       "      <td>_TheSpecialOne_</td>\n",
       "      <td>@switchfoot http://twitpic.com/2y1zl - Awww, t...</td>\n",
       "    </tr>\n",
       "    <tr>\n",
       "      <th>1</th>\n",
       "      <td>0</td>\n",
       "      <td>1467810672</td>\n",
       "      <td>Mon Apr 06 22:19:49 PDT 2009</td>\n",
       "      <td>NO_QUERY</td>\n",
       "      <td>scotthamilton</td>\n",
       "      <td>is upset that he can't update his Facebook by ...</td>\n",
       "    </tr>\n",
       "    <tr>\n",
       "      <th>2</th>\n",
       "      <td>0</td>\n",
       "      <td>1467810917</td>\n",
       "      <td>Mon Apr 06 22:19:53 PDT 2009</td>\n",
       "      <td>NO_QUERY</td>\n",
       "      <td>mattycus</td>\n",
       "      <td>@Kenichan I dived many times for the ball. Man...</td>\n",
       "    </tr>\n",
       "    <tr>\n",
       "      <th>3</th>\n",
       "      <td>0</td>\n",
       "      <td>1467811184</td>\n",
       "      <td>Mon Apr 06 22:19:57 PDT 2009</td>\n",
       "      <td>NO_QUERY</td>\n",
       "      <td>ElleCTF</td>\n",
       "      <td>my whole body feels itchy and like its on fire</td>\n",
       "    </tr>\n",
       "    <tr>\n",
       "      <th>4</th>\n",
       "      <td>0</td>\n",
       "      <td>1467811193</td>\n",
       "      <td>Mon Apr 06 22:19:57 PDT 2009</td>\n",
       "      <td>NO_QUERY</td>\n",
       "      <td>Karoli</td>\n",
       "      <td>@nationwideclass no, it's not behaving at all....</td>\n",
       "    </tr>\n",
       "  </tbody>\n",
       "</table>\n",
       "</div>"
      ],
      "text/plain": [
       "   class          id                          date     query             user  \\\n",
       "0      0  1467810369  Mon Apr 06 22:19:45 PDT 2009  NO_QUERY  _TheSpecialOne_   \n",
       "1      0  1467810672  Mon Apr 06 22:19:49 PDT 2009  NO_QUERY    scotthamilton   \n",
       "2      0  1467810917  Mon Apr 06 22:19:53 PDT 2009  NO_QUERY         mattycus   \n",
       "3      0  1467811184  Mon Apr 06 22:19:57 PDT 2009  NO_QUERY          ElleCTF   \n",
       "4      0  1467811193  Mon Apr 06 22:19:57 PDT 2009  NO_QUERY           Karoli   \n",
       "\n",
       "                                                text  \n",
       "0  @switchfoot http://twitpic.com/2y1zl - Awww, t...  \n",
       "1  is upset that he can't update his Facebook by ...  \n",
       "2  @Kenichan I dived many times for the ball. Man...  \n",
       "3    my whole body feels itchy and like its on fire   \n",
       "4  @nationwideclass no, it's not behaving at all....  "
      ]
     },
     "execution_count": 168,
     "metadata": {},
     "output_type": "execute_result"
    }
   ],
   "source": [
    "# Importing Generic Tweets to test models.\n",
    "df2 = pd.read_csv('generic_tweets.txt')\n",
    "df2.head(n=5)"
   ]
  },
  {
   "cell_type": "code",
   "execution_count": 169,
   "metadata": {
    "colab": {
     "base_uri": "https://localhost:8080/",
     "height": 51
    },
    "colab_type": "code",
    "id": "VSCSHD2iEIMt",
    "outputId": "7bd6e8b6-458f-48f7-952f-4c154d77a7dd"
   },
   "outputs": [
    {
     "name": "stderr",
     "output_type": "stream",
     "text": [
      "[nltk_data] Downloading package stopwords to\n",
      "[nltk_data]     C:\\Users\\rahma\\AppData\\Roaming\\nltk_data...\n",
      "[nltk_data]   Package stopwords is already up-to-date!\n"
     ]
    }
   ],
   "source": [
    "# Data cleaning and pre-process dataset\n",
    "nltk.download('stopwords')\n",
    "\n",
    "# TEXT CLEANING\n",
    "TEXT_CLEANING_RE = \"@\\S+|https?:\\S+|http?:\\S|[^A-Za-z0-9]+\" \n",
    "# A stop word is a commonly used word (such as “the”, “a”, “an”, “in”) that a search engine has been programmed to ignore, both when indexing entries for searching and when retrieving them as the result of a search query.\n",
    "stop_words = stopwords.words(\"english\")\n",
    "# To reduce words to their root form\n",
    "stemmer = SnowballStemmer(\"english\")"
   ]
  },
  {
   "cell_type": "code",
   "execution_count": 170,
   "metadata": {
    "colab": {},
    "colab_type": "code",
    "id": "OmZhMHu2EIM1"
   },
   "outputs": [],
   "source": [
    "# Applying the data cleaning from above\n",
    "def preprocess(text, stem=False):\n",
    "    # Remove link,user and special characters\n",
    "    text = re.sub(TEXT_CLEANING_RE, ' ', str(text).lower()).strip()\n",
    "    tokens = []\n",
    "    for token in text.split():\n",
    "        if token not in stop_words:\n",
    "            if stem:\n",
    "                tokens.append(stemmer.stem(token))\n",
    "            else:\n",
    "                tokens.append(token)\n",
    "    return \" \".join(tokens)\n",
    "\n",
    "df2.text = df2.text.apply(lambda x: preprocess(x))"
   ]
  },
  {
   "cell_type": "markdown",
   "metadata": {},
   "source": [
    "### Exporatory Analysis - Generic Tweets"
   ]
  },
  {
   "cell_type": "code",
   "execution_count": 171,
   "metadata": {
    "colab": {
     "base_uri": "https://localhost:8080/",
     "height": 720
    },
    "colab_type": "code",
    "id": "BuU61GWSEIMl",
    "outputId": "f0ac8673-cfbc-4d4a-80d0-0cbad6b74675"
   },
   "outputs": [
    {
     "name": "stdout",
     "output_type": "stream",
     "text": [
      "<class 'pandas.core.frame.DataFrame'>\n",
      "RangeIndex: 200000 entries, 0 to 199999\n",
      "Data columns (total 6 columns):\n",
      "class    200000 non-null int64\n",
      "id       200000 non-null int64\n",
      "date     200000 non-null object\n",
      "query    200000 non-null object\n",
      "user     200000 non-null object\n",
      "text     200000 non-null object\n",
      "dtypes: int64(2), object(4)\n",
      "memory usage: 9.2+ MB\n",
      "None\n"
     ]
    },
    {
     "data": {
      "text/plain": [
       "Text(0.5, 1.0, 'Dataset labels distribuition')"
      ]
     },
     "execution_count": 171,
     "metadata": {},
     "output_type": "execute_result"
    },
    {
     "data": {
      "image/png": "[encoded data removed]",
      "text/plain": [
       "<Figure size 1152x576 with 1 Axes>"
      ]
     },
     "metadata": {
      "needs_background": "light"
     },
     "output_type": "display_data"
    }
   ],
   "source": [
    "# check the data frame info\n",
    "print(df2.info())\n",
    "df2.rename(columns={\"class\": \"sentiment\"}, inplace=True)\n",
    "\n",
    "# Get uniques values of sentiment column\n",
    "df2['sentiment'].unique()\n",
    "\n",
    "# Find count of individual sentiment and create a bar plot for better visualization\n",
    "sen_cnt = Counter(df2.sentiment)\n",
    "\n",
    "plt.figure(figsize=(16,8))\n",
    "plt.bar(sen_cnt.keys(), sen_cnt.values())\n",
    "plt.title(\"Dataset labels distribuition\")\n"
   ]
  },
  {
   "cell_type": "markdown",
   "metadata": {},
   "source": [
    "There is a perfect balance in target variable class in the dataset. This is very suitable for any ML model, as overfitting by the dominant class is avoided, irrespective of the ML model being implemented"
   ]
  },
  {
   "cell_type": "code",
   "execution_count": 172,
   "metadata": {
    "colab": {
     "base_uri": "https://localhost:8080/",
     "height": 165
    },
    "colab_type": "code",
    "id": "ceSY-IGcEINK",
    "outputId": "7adf232d-900b-47a1-f632-b9b38b602fa8"
   },
   "outputs": [
    {
     "data": {
      "image/png": "[encoded data removed]",
      "text/plain": [
       "<Figure size 432x288 with 1 Axes>"
      ]
     },
     "metadata": {
      "needs_background": "light"
     },
     "output_type": "display_data"
    }
   ],
   "source": [
    "# all tweets \n",
    "all_words = \" \".join(df2.text)\n",
    "\n",
    "# Wordcloud of tweets\n",
    "wordcloud = WordCloud(height=4000, width=10000, stopwords=STOPWORDS, background_color='white')\n",
    "wordcloud = wordcloud.generate(all_words)\n",
    "plt.imshow(wordcloud)\n",
    "plt.axis('off')\n",
    "plt.show()"
   ]
  },
  {
   "cell_type": "markdown",
   "metadata": {},
   "source": [
    "### Model Preparation (Bag of Words and TFIDF) - Generic Tweets"
   ]
  },
  {
   "cell_type": "markdown",
   "metadata": {},
   "source": [
    "For both TFIDF and Bag of Words, max_features=1000 will be used for the interest of computation speed. Otherwise, the models could take days to run if not run on big data platforms with shared cluster space. "
   ]
  },
  {
   "cell_type": "code",
   "execution_count": 174,
   "metadata": {
    "colab": {
     "base_uri": "https://localhost:8080/",
     "height": 119
    },
    "colab_type": "code",
    "id": "XyBRq0r8Z8ZY",
    "outputId": "fb34e151-70f8-4007-e5f3-6c7969ef3e14"
   },
   "outputs": [
    {
     "data": {
      "text/plain": [
       "0    [awww, bummer, shoulda, got, david, carr, thir...\n",
       "1    [upset, update, facebook, texting, might, cry,...\n",
       "2    [dived, many, times, ball, managed, save, 50, ...\n",
       "3              [whole, body, feels, itchy, like, fire]\n",
       "4                                 [behaving, mad, see]\n",
       "Name: text, dtype: object"
      ]
     },
     "execution_count": 174,
     "metadata": {},
     "output_type": "execute_result"
    }
   ],
   "source": [
    "# tokenize all the cleaned tweets in our dataset. Tokens are individual terms or words, \n",
    "# and tokenization is the process of splitting a string of text into tokens\n",
    "tokenized_tweet = df2['text'].apply(lambda x: x.split())\n",
    "tokenized_tweet.head()"
   ]
  },
  {
   "cell_type": "code",
   "execution_count": 175,
   "metadata": {
    "colab": {
     "base_uri": "https://localhost:8080/",
     "height": 119
    },
    "colab_type": "code",
    "id": "P3WbHSNYaN7E",
    "outputId": "5c8099b6-84cc-4460-e85c-b2d41068db3b"
   },
   "outputs": [
    {
     "data": {
      "text/plain": [
       "0    [awww, bummer, shoulda, got, david, carr, thir...\n",
       "1    [upset, updat, facebook, text, might, cri, res...\n",
       "2    [dive, mani, time, ball, manag, save, 50, rest...\n",
       "3               [whole, bodi, feel, itchi, like, fire]\n",
       "4                                    [behav, mad, see]\n",
       "Name: text, dtype: object"
      ]
     },
     "execution_count": 175,
     "metadata": {},
     "output_type": "execute_result"
    }
   ],
   "source": [
    "# Stemming is a rule-based process of stripping the suffixes (“ing”, “ly”, “es”, “s” etc) from a word\n",
    "from nltk.stem.porter import *\n",
    "stemmer = PorterStemmer()\n",
    "\n",
    "tokenized_tweet = tokenized_tweet.apply(lambda x: [stemmer.stem(i) for i in x]) # stemming\n",
    "tokenized_tweet.head()"
   ]
  },
  {
   "cell_type": "code",
   "execution_count": 176,
   "metadata": {
    "colab": {
     "base_uri": "https://localhost:8080/",
     "height": 255
    },
    "colab_type": "code",
    "id": "0gMx0uACaWoD",
    "outputId": "0be64296-6cb6-42f9-d3f4-358bc47de8f2"
   },
   "outputs": [
    {
     "name": "stdout",
     "output_type": "stream",
     "text": [
      "        sentiment          id                          date     query  \\\n",
      "0               0  1467810369  Mon Apr 06 22:19:45 PDT 2009  NO_QUERY   \n",
      "1               0  1467810672  Mon Apr 06 22:19:49 PDT 2009  NO_QUERY   \n",
      "2               0  1467810917  Mon Apr 06 22:19:53 PDT 2009  NO_QUERY   \n",
      "3               0  1467811184  Mon Apr 06 22:19:57 PDT 2009  NO_QUERY   \n",
      "4               0  1467811193  Mon Apr 06 22:19:57 PDT 2009  NO_QUERY   \n",
      "5               0  1467811372  Mon Apr 06 22:20:00 PDT 2009  NO_QUERY   \n",
      "6               0  1467811592  Mon Apr 06 22:20:03 PDT 2009  NO_QUERY   \n",
      "7               0  1467811594  Mon Apr 06 22:20:03 PDT 2009  NO_QUERY   \n",
      "8               0  1467811795  Mon Apr 06 22:20:05 PDT 2009  NO_QUERY   \n",
      "9               0  1467812025  Mon Apr 06 22:20:09 PDT 2009  NO_QUERY   \n",
      "10              0  1467812416  Mon Apr 06 22:20:16 PDT 2009  NO_QUERY   \n",
      "11              0  1467812579  Mon Apr 06 22:20:17 PDT 2009  NO_QUERY   \n",
      "12              0  1467812723  Mon Apr 06 22:20:19 PDT 2009  NO_QUERY   \n",
      "13              0  1467812771  Mon Apr 06 22:20:19 PDT 2009  NO_QUERY   \n",
      "14              0  1467812784  Mon Apr 06 22:20:20 PDT 2009  NO_QUERY   \n",
      "15              0  1467812799  Mon Apr 06 22:20:20 PDT 2009  NO_QUERY   \n",
      "16              0  1467812964  Mon Apr 06 22:20:22 PDT 2009  NO_QUERY   \n",
      "17              0  1467813137  Mon Apr 06 22:20:25 PDT 2009  NO_QUERY   \n",
      "18              0  1467813579  Mon Apr 06 22:20:31 PDT 2009  NO_QUERY   \n",
      "19              0  1467813782  Mon Apr 06 22:20:34 PDT 2009  NO_QUERY   \n",
      "20              0  1467813985  Mon Apr 06 22:20:37 PDT 2009  NO_QUERY   \n",
      "21              0  1467813992  Mon Apr 06 22:20:38 PDT 2009  NO_QUERY   \n",
      "22              0  1467814119  Mon Apr 06 22:20:40 PDT 2009  NO_QUERY   \n",
      "23              0  1467814180  Mon Apr 06 22:20:40 PDT 2009  NO_QUERY   \n",
      "24              0  1467814192  Mon Apr 06 22:20:41 PDT 2009  NO_QUERY   \n",
      "25              0  1467814438  Mon Apr 06 22:20:44 PDT 2009  NO_QUERY   \n",
      "26              0  1467814783  Mon Apr 06 22:20:50 PDT 2009  NO_QUERY   \n",
      "27              0  1467814883  Mon Apr 06 22:20:52 PDT 2009  NO_QUERY   \n",
      "28              0  1467815199  Mon Apr 06 22:20:56 PDT 2009  NO_QUERY   \n",
      "29              0  1467815753  Mon Apr 06 22:21:04 PDT 2009  NO_QUERY   \n",
      "...           ...         ...                           ...       ...   \n",
      "199970          4  1693954825  Mon May 04 00:26:55 PDT 2009  NO_QUERY   \n",
      "199971          4  1693954864  Mon May 04 00:26:55 PDT 2009  NO_QUERY   \n",
      "199972          4  1693954878  Mon May 04 00:26:55 PDT 2009  NO_QUERY   \n",
      "199973          4  1693954978  Mon May 04 00:26:57 PDT 2009  NO_QUERY   \n",
      "199974          4  1693954980  Mon May 04 00:26:57 PDT 2009  NO_QUERY   \n",
      "199975          4  1693955032  Mon May 04 00:26:58 PDT 2009  NO_QUERY   \n",
      "199976          4  1693955058  Mon May 04 00:26:58 PDT 2009  NO_QUERY   \n",
      "199977          4  1693955124  Mon May 04 00:26:59 PDT 2009  NO_QUERY   \n",
      "199978          4  1693955159  Mon May 04 00:27:00 PDT 2009  NO_QUERY   \n",
      "199979          4  1693955172  Mon May 04 00:27:00 PDT 2009  NO_QUERY   \n",
      "199980          4  1693955181  Mon May 04 00:27:00 PDT 2009  NO_QUERY   \n",
      "199981          4  1693955229  Mon May 04 00:27:01 PDT 2009  NO_QUERY   \n",
      "199982          4  1693955239  Mon May 04 00:27:01 PDT 2009  NO_QUERY   \n",
      "199983          4  1693955259  Mon May 04 00:27:01 PDT 2009  NO_QUERY   \n",
      "199984          4  1693955313  Mon May 04 00:27:02 PDT 2009  NO_QUERY   \n",
      "199985          4  1693955318  Mon May 04 00:27:02 PDT 2009  NO_QUERY   \n",
      "199986          4  1693955346  Mon May 04 00:27:02 PDT 2009  NO_QUERY   \n",
      "199987          4  1693955449  Mon May 04 00:27:04 PDT 2009  NO_QUERY   \n",
      "199988          4  1693955535  Mon May 04 00:27:05 PDT 2009  NO_QUERY   \n",
      "199989          4  1693955558  Mon May 04 00:27:05 PDT 2009  NO_QUERY   \n",
      "199990          4  1693955710  Mon May 04 00:27:07 PDT 2009  NO_QUERY   \n",
      "199991          4  1693955809  Mon May 04 00:27:09 PDT 2009  NO_QUERY   \n",
      "199992          4  1693955837  Mon May 04 00:27:10 PDT 2009  NO_QUERY   \n",
      "199993          4  1693956028  Mon May 04 00:27:13 PDT 2009  NO_QUERY   \n",
      "199994          4  1693956082  Mon May 04 00:27:13 PDT 2009  NO_QUERY   \n",
      "199995          4  1693956088  Mon May 04 00:27:13 PDT 2009  NO_QUERY   \n",
      "199996          4  1693956096  Mon May 04 00:27:14 PDT 2009  NO_QUERY   \n",
      "199997          4  1693956099  Mon May 04 00:27:14 PDT 2009  NO_QUERY   \n",
      "199998          4  1693956134  Mon May 04 00:27:14 PDT 2009  NO_QUERY   \n",
      "199999          4  1693956160  Mon May 04 00:27:14 PDT 2009  NO_QUERY   \n",
      "\n",
      "                   user                                               text  \n",
      "0       _TheSpecialOne_       awww bummer shoulda got david carr third day  \n",
      "1         scotthamilton  upset updat facebook text might cri result sch...  \n",
      "2              mattycus    dive mani time ball manag save 50 rest go bound  \n",
      "3               ElleCTF                    whole bodi feel itchi like fire  \n",
      "4                Karoli                                      behav mad see  \n",
      "5              joy_wolf                                         whole crew  \n",
      "6               mybirch                                           need hug  \n",
      "7                  coZZ   hey long time see ye rain bit bit lol fine thank  \n",
      "8       2Hood4Hollywood                                               nope  \n",
      "9               mimismo                                          que muera  \n",
      "10       erinx3leannexo                       spring break plain citi snow  \n",
      "11         pardonlauren                                          pierc ear  \n",
      "12                 TLeC               bear watch thought ua loss embarrass  \n",
      "13      robrobbierobert                 count idk either never talk anymor  \n",
      "14          bayofwolves  would first gun realli though zac snyder douch...  \n",
      "15           HairByJess            wish got watch miss iamlilnicki premier  \n",
      "16       lovesongwriter  holli death scene hurt sever watch film wri di...  \n",
      "17             armotley                                           file tax  \n",
      "18           starkissed        ahh ive alway want see rent love soundtrack  \n",
      "19            gi_gi_bee                 oh dear drink forgotten tabl drink  \n",
      "20               quanvu                                  day get much done  \n",
      "21           swinspeedx  one friend call ask meet mid valley today time...  \n",
      "22            cooliodoc                                      bake cake ate  \n",
      "23           viJILLante                                       week go hope  \n",
      "24           Ljelli3166                             blagh class 8 tomorrow  \n",
      "25        ChicagoCubbie                               hate call wake peopl  \n",
      "26          KatieAngell                          go cri sleep watch marley  \n",
      "27                gagoo                                  im sad miss lilli  \n",
      "28              abel209                   ooooh lol lesli ok lesli get mad  \n",
      "29      BaptisteTheFool  meh almost lover except track get depress ever...  \n",
      "...                 ...                                                ...  \n",
      "199970      Donealready  know stepford wive live st mari island quit li...  \n",
      "199971     Simplymelony                                           thank yu  \n",
      "199972     hiChristiana  updat twitter middl night piss everyon link phone  \n",
      "199973    communicating  almost done sunday task includ open sourc code...  \n",
      "199974   vanessaveasley                                            excatli  \n",
      "199975         zoealice                    go len shop want macro research  \n",
      "199976       sepiaverse               hai naa also refer obssess impli fan  \n",
      "199977      FollanPhoto      upload imag web yep listya amp hendik long go  \n",
      "199978  RockstarAtHeart  newbi malakai thanh li stir troubl last night ...  \n",
      "199979  benjaminbeckett                                    suck cock tonit  \n",
      "199980       michaeljek                            red symond prime minist  \n",
      "199981      courtneyyy3                                             oh say  \n",
      "199982     freocookster  lushi tee interview md sexpo friday nice engli...  \n",
      "199983          Barb04s  sorri tweet read tweet right first time would ...  \n",
      "199984     Hetty4Christ                         pre 2nd brain surgeri song  \n",
      "199985     deadstockric           awwwwwww thank yeah real dope flick come  \n",
      "199986        xtiiiiine                                 wanna laugh summer  \n",
      "199987         pinkpebs  video arch yesterday taken briankerrphoto bail...  \n",
      "199988           CWhyte        wow twitter get seriou traffic googl go buy  \n",
      "199989  sdhawkins_sfasu               destin e harmoni user sometim wonder  \n",
      "199990     BossTycoonLZ                                       u doinn sexc  \n",
      "199991     KingNick1100  3 ur name anyway hi post someth page empti ok ...  \n",
      "199992         ssoun126                     haha sorri lol btw nice meet u  \n",
      "199993       jchavarria                                        ok way work  \n",
      "199994     sheryonstone                                  got kid ladypn ok  \n",
      "199995       FelineBred                 haha remark matern leav fire littl  \n",
      "199996      softthistle                                                     \n",
      "199997        elysion32  oki doke time escap north massa back turn get ...  \n",
      "199998       fancyjessy                               finish lesson hooray  \n",
      "199999         noraezan   ppl fuck kp0 cb stop ask laa love boyfriend that  \n",
      "\n",
      "[200000 rows x 6 columns]\n"
     ]
    }
   ],
   "source": [
    "# let’s stitch these tokens back together\n",
    "for i in range(len(tokenized_tweet)):\n",
    "    tokenized_tweet[i] = ' '.join(tokenized_tweet[i])\n",
    "\n",
    "df2['text'] = tokenized_tweet\n",
    "print(df2)"
   ]
  },
  {
   "cell_type": "code",
   "execution_count": 177,
   "metadata": {
    "colab": {
     "base_uri": "https://localhost:8080/",
     "height": 884
    },
    "colab_type": "code",
    "id": "vemde8cWayyg",
    "outputId": "862b68fe-92a2-4247-a6dc-094eb8eb9df5"
   },
   "outputs": [
    {
     "name": "stdout",
     "output_type": "stream",
     "text": [
      "  (0, 225)\t1\n",
      "  (0, 224)\t1\n",
      "  (0, 373)\t1\n",
      "  (0, 74)\t1\n",
      "  (1, 105)\t1\n",
      "  (1, 877)\t1\n",
      "  (1, 735)\t1\n",
      "  (1, 708)\t1\n",
      "  (1, 208)\t1\n",
      "  (1, 860)\t1\n",
      "  (1, 296)\t1\n",
      "  (1, 915)\t1\n",
      "  (1, 917)\t1\n",
      "  (2, 707)\t1\n",
      "  (2, 12)\t1\n",
      "  (2, 730)\t1\n",
      "  (2, 539)\t1\n",
      "  (2, 79)\t1\n",
      "  (2, 874)\t1\n",
      "  (2, 540)\t1\n",
      "  (3, 507)\t1\n",
      "  (3, 313)\t1\n",
      "  (3, 112)\t1\n",
      "  (4, 535)\t1\n",
      "  (6, 434)\t1\n",
      "  :\t:\n",
      "  (199992, 387)\t1\n",
      "  (199992, 594)\t1\n",
      "  (199992, 803)\t1\n",
      "  (199992, 552)\t1\n",
      "  (199992, 517)\t1\n",
      "  (199993, 943)\t1\n",
      "  (199993, 970)\t1\n",
      "  (199993, 612)\t1\n",
      "  (199994, 477)\t1\n",
      "  (199994, 612)\t1\n",
      "  (199994, 373)\t1\n",
      "  (199995, 513)\t1\n",
      "  (199995, 387)\t1\n",
      "  (199995, 498)\t1\n",
      "  (199997, 422)\t1\n",
      "  (199997, 900)\t1\n",
      "  (199997, 874)\t1\n",
      "  (199998, 501)\t1\n",
      "  (199998, 323)\t1\n",
      "  (199999, 121)\t1\n",
      "  (199999, 347)\t1\n",
      "  (199999, 822)\t1\n",
      "  (199999, 662)\t1\n",
      "  (199999, 61)\t1\n",
      "  (199999, 526)\t1\n"
     ]
    }
   ],
   "source": [
    "# BAG OF WORDS: Counting number of words per entry/document\n",
    "# Bag-of-Words features can be easily created using sklearn’s CountVectorizer function. \n",
    "# We will set the parameter max_features = 1000 to select only top 1000 terms ordered by term frequency across the corpus\n",
    "from sklearn.feature_extraction.text import CountVectorizer\n",
    "bow_vectorizer = CountVectorizer(max_df=0.90, min_df=2, max_features=1000, stop_words='english')\n",
    "# bag-of-words feature matrix\n",
    "bow = bow_vectorizer.fit_transform(df2['text'])\n",
    "print(bow)"
   ]
  },
  {
   "cell_type": "code",
   "execution_count": 178,
   "metadata": {
    "colab": {},
    "colab_type": "code",
    "id": "Gz6kF5HWa8B1"
   },
   "outputs": [],
   "source": [
    "# TF-IDF: It works by penalizing the common words by assigning them lower weights while giving \n",
    "# importance to words which are rare in the entire corpus but appear in good numbers\n",
    "from sklearn.feature_extraction.text import TfidfVectorizer\n",
    "tfidf_vectorizer = TfidfVectorizer(max_df=0.90, min_df=2, max_features=1000, stop_words='english')\n",
    "# TF-IDF feature matrix\n",
    "tfidf = tfidf_vectorizer.fit_transform(df2['text'])"
   ]
  },
  {
   "cell_type": "code",
   "execution_count": 179,
   "metadata": {},
   "outputs": [
    {
     "name": "stdout",
     "output_type": "stream",
     "text": [
      "  (0, 74)\t0.5914496287582646\n",
      "  (0, 373)\t0.37475504299386675\n",
      "  (0, 224)\t0.635836307151928\n",
      "  (0, 225)\t0.3247432599759005\n",
      "  (1, 917)\t0.36795372005829907\n",
      "  (1, 915)\t0.31387866812306936\n",
      "  (1, 296)\t0.34352598128170037\n",
      "  (1, 860)\t0.3429473275559573\n",
      "  (1, 208)\t0.3220421724688195\n",
      "  (1, 708)\t0.3920093534271115\n",
      "  (1, 735)\t0.2626550551630971\n",
      "  (1, 877)\t0.20855732210382913\n",
      "  (1, 105)\t0.40075047557125837\n",
      "  (2, 540)\t0.34331986038588624\n",
      "  (2, 874)\t0.2330009288788982\n",
      "  (2, 79)\t0.43036810124905645\n",
      "  (2, 539)\t0.4115062679365704\n",
      "  (2, 730)\t0.39080546940759253\n",
      "  (2, 12)\t0.4337805386200754\n",
      "  (2, 707)\t0.3638591195476241\n",
      "  (3, 112)\t0.7753958305415023\n",
      "  (3, 313)\t0.4715532953157644\n",
      "  (3, 507)\t0.4199985662543353\n",
      "  (4, 535)\t1.0\n",
      "  (6, 590)\t0.5590683007766692\n",
      "  :\t:\n",
      "  (199992, 552)\t0.45383016217641314\n",
      "  (199992, 803)\t0.384742436274447\n",
      "  (199992, 594)\t0.3792503913801654\n",
      "  (199992, 387)\t0.37604527314221436\n",
      "  (199992, 130)\t0.5024969127917983\n",
      "  (199993, 612)\t0.6580489612219965\n",
      "  (199993, 970)\t0.4516419056009819\n",
      "  (199993, 943)\t0.6024874718529549\n",
      "  (199994, 373)\t0.45933883758831506\n",
      "  (199994, 612)\t0.6002770235014732\n",
      "  (199994, 477)\t0.6547330198937789\n",
      "  (199995, 498)\t0.6132792456414257\n",
      "  (199995, 387)\t0.5310623407511952\n",
      "  (199995, 513)\t0.5846891114954555\n",
      "  (199997, 874)\t0.46626338159418673\n",
      "  (199997, 900)\t0.713926148242243\n",
      "  (199997, 422)\t0.5224058899365022\n",
      "  (199998, 323)\t0.5892661201316681\n",
      "  (199998, 501)\t0.8079390073916287\n",
      "  (199999, 526)\t0.2597076173842374\n",
      "  (199999, 61)\t0.41394399381823177\n",
      "  (199999, 662)\t0.4631981492718444\n",
      "  (199999, 822)\t0.39141855690213634\n",
      "  (199999, 347)\t0.4008531032801404\n",
      "  (199999, 121)\t0.48245010194721943\n"
     ]
    }
   ],
   "source": [
    "print(tfidf)"
   ]
  },
  {
   "cell_type": "code",
   "execution_count": 180,
   "metadata": {
    "colab": {},
    "colab_type": "code",
    "id": "XVL_jKsrvmUM"
   },
   "outputs": [],
   "source": [
    "# Spliting Data form above reduction dataset for bag of words\n",
    "from sklearn.model_selection import train_test_split\n",
    "X_train, X_test, y_train, y_test = train_test_split(bow, df2['sentiment'], test_size = 0.3, random_state = 3)"
   ]
  },
  {
   "cell_type": "markdown",
   "metadata": {},
   "source": [
    "### Model Implementation & Results (Bag of Words and TFIDF) - Generic Tweets"
   ]
  },
  {
   "cell_type": "code",
   "execution_count": 181,
   "metadata": {
    "colab": {
     "base_uri": "https://localhost:8080/",
     "height": 258
    },
    "colab_type": "code",
    "id": "uxOuwOVbMX8p",
    "outputId": "abd6e66e-21dc-4c6f-d641-5d4fa97b3eb5"
   },
   "outputs": [
    {
     "name": "stderr",
     "output_type": "stream",
     "text": [
      "C:\\ProgramData\\Anaconda3\\lib\\site-packages\\sklearn\\svm\\base.py:193: FutureWarning: The default value of gamma will change from 'auto' to 'scale' in version 0.22 to account better for unscaled features. Set gamma explicitly to 'auto' or 'scale' to avoid this warning.\n",
      "  \"avoid this warning.\", FutureWarning)\n"
     ]
    },
    {
     "name": "stdout",
     "output_type": "stream",
     "text": [
      "Support Vector Classifier accuracy: 71.74000000000001%\n"
     ]
    },
    {
     "name": "stderr",
     "output_type": "stream",
     "text": [
      "C:\\ProgramData\\Anaconda3\\lib\\site-packages\\sklearn\\linear_model\\logistic.py:432: FutureWarning: Default solver will be changed to 'lbfgs' in 0.22. Specify a solver to silence this warning.\n",
      "  FutureWarning)\n"
     ]
    },
    {
     "name": "stdout",
     "output_type": "stream",
     "text": [
      "Logistic Regression accuracy: 74.19333333333333%\n",
      "K Nearest Neighbors Classifier accuracy: 66.84833333333333%\n"
     ]
    },
    {
     "name": "stderr",
     "output_type": "stream",
     "text": [
      "C:\\ProgramData\\Anaconda3\\lib\\site-packages\\sklearn\\ensemble\\forest.py:245: FutureWarning: The default value of n_estimators will change from 10 in version 0.20 to 100 in 0.22.\n",
      "  \"10 in version 0.20 to 100 in 0.22.\", FutureWarning)\n"
     ]
    },
    {
     "name": "stdout",
     "output_type": "stream",
     "text": [
      "Random Forest Classifier accuracy: 70.52000000000001%\n",
      "Gradient Boosting Classifier accuracy: 67.76333333333334%\n",
      "XGBoost Classifier accuracy: 67.39666666666668%\n"
     ]
    }
   ],
   "source": [
    "# Applying various Classification algorithms without doing variable reductions using bag of words\n",
    "accuracy_scores = np.zeros(7)\n",
    "\n",
    "# Support Vector Classifier\n",
    "svm = SVC().fit(X_train, y_train)\n",
    "prediction1 = svm.predict(X_test)\n",
    "accuracy_scores[0] = accuracy_score(y_test, prediction1)*100\n",
    "print('Support Vector Classifier accuracy: {}%'.format(accuracy_scores[0]))\n",
    "\n",
    "# Logistic Regression\n",
    "logis = LogisticRegression().fit(X_train, y_train)\n",
    "prediction2 = logis.predict(X_test)\n",
    "accuracy_scores[1] = accuracy_score(y_test, prediction2)*100\n",
    "print('Logistic Regression accuracy: {}%'.format(accuracy_scores[1]))\n",
    "\n",
    "# K Nearest Neighbors\n",
    "knn = KNeighborsClassifier().fit(X_train, y_train)\n",
    "prediction3 = knn.predict(X_test)\n",
    "accuracy_scores[2] = accuracy_score(y_test, prediction3)*100\n",
    "print('K Nearest Neighbors Classifier accuracy: {}%'.format(accuracy_scores[2]))\n",
    "\n",
    "# Gaussian Naive Bayes\n",
    "#clf = GaussianNB().fit(X_train, y_train)\n",
    "#prediction4 = clf.predict(X_test)\n",
    "#accuracy_scores[3] = accuracy_score(y_test, prediction4)*100\n",
    "#print('Gaussian Naive Bayes Classifier accuracy: {}%'.format(accuracy_scores[3]))\n",
    "\n",
    "# Decision Tree\n",
    "#decision = DecisionTreeClassifier().fit(X_train, y_train)\n",
    "#prediction4 = decision.predict(X_test)\n",
    "#accuracy_scores[3] = accuracy_score(y_test, prediction4)*100\n",
    "#print('Decision Tree Classifier accuracy: {}%'.format(accuracy_scores[3]))\n",
    "\n",
    "\n",
    "# Random Forest\n",
    "random = RandomForestClassifier().fit(X_train, y_train)\n",
    "prediction5 = random.predict(X_test)\n",
    "accuracy_scores[4] = accuracy_score(y_test, prediction5)*100\n",
    "print('Random Forest Classifier accuracy: {}%'.format(accuracy_scores[4]))\n",
    "\n",
    "# Gradient Boosting\n",
    "GB = GradientBoostingClassifier().fit(X_train, y_train)\n",
    "prediction6 = GB.predict(X_test)\n",
    "accuracy_scores[5] = accuracy_score(y_test, prediction6)*100\n",
    "print('Gradient Boosting Classifier accuracy: {}%'.format(accuracy_scores[5]))\n",
    "\n",
    "#XGBoosting\n",
    "xgb_model = xgb.XGBClassifier() \n",
    "xgb_model.fit(X_train, y_train)\n",
    "prediction7 = xgb_model.predict(X_test)\n",
    "accuracy_scores[6] = accuracy_score(y_test, prediction7)*100\n",
    "print('XGBoost Classifier accuracy: {}%'.format(accuracy_scores[6]))"
   ]
  },
  {
   "cell_type": "code",
   "execution_count": 182,
   "metadata": {
    "colab": {
     "base_uri": "https://localhost:8080/",
     "height": 312
    },
    "colab_type": "code",
    "id": "U7PqKNj5kJ5w",
    "outputId": "56925250-955b-4da6-e774-829d1cb36cdc"
   },
   "outputs": [
    {
     "data": {
      "text/plain": [
       "Text(0.5, 1.0, 'Accuracy of various algorithms with Bag of Words')"
      ]
     },
     "execution_count": 182,
     "metadata": {},
     "output_type": "execute_result"
    },
    {
     "data": {
      "image/png": "[encoded data removed]",
      "text/plain": [
       "<Figure size 432x288 with 1 Axes>"
      ]
     },
     "metadata": {
      "needs_background": "light"
     },
     "output_type": "display_data"
    }
   ],
   "source": [
    "# Accuracy comparison of various algorithms for bag of words\n",
    "colors = cm.rainbow(np.linspace(0, 2, 9))\n",
    "labels = ['SVC', 'LR', 'KNN', 'DT', 'RF', 'GBM', 'XGB']\n",
    "plt.bar(labels,\n",
    "        accuracy_scores,\n",
    "        color = colors)\n",
    "plt.xlabel('Classifiers')\n",
    "plt.ylabel('Accuracy')\n",
    "plt.title('Accuracy of various algorithms with Bag of Words')"
   ]
  },
  {
   "cell_type": "code",
   "execution_count": 183,
   "metadata": {},
   "outputs": [],
   "source": [
    "# Spliting Data form above reduction dataset for tfidf\n",
    "from sklearn.model_selection import train_test_split\n",
    "X_train, X_test, y_train, y_test = train_test_split(tfidf, df2['sentiment'], test_size = 0.3, random_state = 3)"
   ]
  },
  {
   "cell_type": "code",
   "execution_count": 184,
   "metadata": {},
   "outputs": [
    {
     "name": "stderr",
     "output_type": "stream",
     "text": [
      "C:\\ProgramData\\Anaconda3\\lib\\site-packages\\sklearn\\svm\\base.py:193: FutureWarning: The default value of gamma will change from 'auto' to 'scale' in version 0.22 to account better for unscaled features. Set gamma explicitly to 'auto' or 'scale' to avoid this warning.\n",
      "  \"avoid this warning.\", FutureWarning)\n"
     ]
    },
    {
     "name": "stdout",
     "output_type": "stream",
     "text": [
      "Support Vector Classifier accuracy: 71.87666666666667%\n"
     ]
    },
    {
     "name": "stderr",
     "output_type": "stream",
     "text": [
      "C:\\ProgramData\\Anaconda3\\lib\\site-packages\\sklearn\\linear_model\\logistic.py:432: FutureWarning: Default solver will be changed to 'lbfgs' in 0.22. Specify a solver to silence this warning.\n",
      "  FutureWarning)\n"
     ]
    },
    {
     "name": "stdout",
     "output_type": "stream",
     "text": [
      "Logistic Regression accuracy: 74.10666666666667%\n",
      "K Nearest Neighbors Classifier accuracy: 65.68833333333333%\n"
     ]
    },
    {
     "name": "stderr",
     "output_type": "stream",
     "text": [
      "C:\\ProgramData\\Anaconda3\\lib\\site-packages\\sklearn\\ensemble\\forest.py:245: FutureWarning: The default value of n_estimators will change from 10 in version 0.20 to 100 in 0.22.\n",
      "  \"10 in version 0.20 to 100 in 0.22.\", FutureWarning)\n"
     ]
    },
    {
     "name": "stdout",
     "output_type": "stream",
     "text": [
      "Random Forest Classifier accuracy: 71.51333333333334%\n",
      "Gradient Boosting Classifier accuracy: 68.06166666666667%\n",
      "XGBoost Classifier accuracy: 67.42666666666666%\n"
     ]
    }
   ],
   "source": [
    "# Applying various Classification algorithms without doing variable reductions using tfidf\n",
    "accuracy_scores = np.zeros(7)\n",
    "\n",
    "# Support Vector Classifier\n",
    "svm = SVC().fit(X_train, y_train)\n",
    "prediction1 = svm.predict(X_test)\n",
    "accuracy_scores[0] = accuracy_score(y_test, prediction1)*100\n",
    "print('Support Vector Classifier accuracy: {}%'.format(accuracy_scores[0]))\n",
    "\n",
    "# Logistic Regression\n",
    "logis = LogisticRegression().fit(X_train, y_train)\n",
    "prediction2 = logis.predict(X_test)\n",
    "accuracy_scores[1] = accuracy_score(y_test, prediction2)*100\n",
    "print('Logistic Regression accuracy: {}%'.format(accuracy_scores[1]))\n",
    "\n",
    "# K Nearest Neighbors\n",
    "knn = KNeighborsClassifier().fit(X_train, y_train)\n",
    "prediction3 = knn.predict(X_test)\n",
    "accuracy_scores[2] = accuracy_score(y_test, prediction3)*100\n",
    "print('K Nearest Neighbors Classifier accuracy: {}%'.format(accuracy_scores[2]))\n",
    "\n",
    "# Gaussian Naive Bayes\n",
    "#clf = GaussianNB().fit(X_train, y_train)\n",
    "#prediction4 = clf.predict(X_test)\n",
    "#accuracy_scores[3] = accuracy_score(y_test, prediction4)*100\n",
    "#print('Gaussian Naive Bayes Classifier accuracy: {}%'.format(accuracy_scores[3]))\n",
    "\n",
    "# Decision Tree\n",
    "#decision = DecisionTreeClassifier().fit(X_train, y_train)\n",
    "#prediction4 = decision.predict(X_test)\n",
    "#accuracy_scores[3] = accuracy_score(y_test, prediction4)*100\n",
    "#print('Decision Tree Classifier accuracy: {}%'.format(accuracy_scores[3]))\n",
    "\n",
    "\n",
    "# Random Forest\n",
    "random = RandomForestClassifier().fit(X_train, y_train)\n",
    "prediction5 = random.predict(X_test)\n",
    "accuracy_scores[4] = accuracy_score(y_test, prediction5)*100\n",
    "print('Random Forest Classifier accuracy: {}%'.format(accuracy_scores[4]))\n",
    "\n",
    "# Gradient Boosting\n",
    "GB = GradientBoostingClassifier().fit(X_train, y_train)\n",
    "prediction6 = GB.predict(X_test)\n",
    "accuracy_scores[5] = accuracy_score(y_test, prediction6)*100\n",
    "print('Gradient Boosting Classifier accuracy: {}%'.format(accuracy_scores[5]))\n",
    "\n",
    "#XGBoosting\n",
    "xgb_model = xgb.XGBClassifier() \n",
    "xgb_model.fit(X_train, y_train)\n",
    "prediction7 = xgb_model.predict(X_test)\n",
    "accuracy_scores[6] = accuracy_score(y_test, prediction7)*100\n",
    "print('XGBoost Classifier accuracy: {}%'.format(accuracy_scores[6]))"
   ]
  },
  {
   "cell_type": "code",
   "execution_count": 185,
   "metadata": {},
   "outputs": [
    {
     "data": {
      "text/plain": [
       "Text(0.5, 1.0, 'Accuracy of various algorithms with tfidf')"
      ]
     },
     "execution_count": 185,
     "metadata": {},
     "output_type": "execute_result"
    },
    {
     "data": {
      "image/png": "[encoded data removed]",
      "text/plain": [
       "<Figure size 432x288 with 1 Axes>"
      ]
     },
     "metadata": {
      "needs_background": "light"
     },
     "output_type": "display_data"
    }
   ],
   "source": [
    "# Accuracy comparison of various algorithms for bag of words\n",
    "colors = cm.rainbow(np.linspace(0, 2, 9))\n",
    "labels = ['SVC', 'LR', 'KNN', 'DT', 'RF', 'GBM', 'XGB']\n",
    "plt.bar(labels,\n",
    "        accuracy_scores,\n",
    "        color = colors)\n",
    "plt.xlabel('Classifiers')\n",
    "plt.ylabel('Accuracy')\n",
    "plt.title('Accuracy of various algorithms with tfidf')"
   ]
  },
  {
   "cell_type": "code",
   "execution_count": 186,
   "metadata": {
    "colab": {
     "base_uri": "https://localhost:8080/",
     "height": 510
    },
    "colab_type": "code",
    "id": "Nw58pmDBo0ia",
    "outputId": "b48177a4-6dee-4be4-d0ce-546981b3e44f"
   },
   "outputs": [
    {
     "name": "stdout",
     "output_type": "stream",
     "text": [
      "              precision    recall  f1-score   support\n",
      "\n",
      "           0       0.76      0.70      0.73     30135\n",
      "           4       0.72      0.78      0.75     29865\n",
      "\n",
      "    accuracy                           0.74     60000\n",
      "   macro avg       0.74      0.74      0.74     60000\n",
      "weighted avg       0.74      0.74      0.74     60000\n",
      "\n"
     ]
    },
    {
     "data": {
      "image/png": "[encoded data removed]",
      "text/plain": [
       "<Figure size 576x432 with 2 Axes>"
      ]
     },
     "metadata": {
      "needs_background": "light"
     },
     "output_type": "display_data"
    }
   ],
   "source": [
    "# check validation statistics (Classification Summary)\n",
    "print(classification_report(y_test, prediction2)) # from confusion matrix Logistics Regression perform well\n",
    "# Plot confusion Matrix\n",
    "skplt.metrics.plot_confusion_matrix(y_test, prediction2, figsize=(8, 6))\n",
    "plt.show()"
   ]
  },
  {
   "cell_type": "code",
   "execution_count": 187,
   "metadata": {
    "colab": {},
    "colab_type": "code",
    "id": "CSt_CY_93E2C"
   },
   "outputs": [
    {
     "data": {
      "image/png": "[encoded data removed]",
      "text/plain": [
       "<Figure size 720x576 with 1 Axes>"
      ]
     },
     "metadata": {
      "needs_background": "light"
     },
     "output_type": "display_data"
    }
   ],
   "source": [
    "# ROC Curves\n",
    "y_probas = xgb_model.predict_proba(X_test)\n",
    "skplt.metrics.plot_roc(y_test, y_probas, figsize=(10, 8)) # Plot ROC Curve\n",
    "plt.show()"
   ]
  },
  {
   "cell_type": "markdown",
   "metadata": {},
   "source": [
    "Based on the above, for both bag of words and tfidf, it is evident that the top 3 performing models are Logistic Regression, SVC and Random Forest. Between bag of words and tfidf, tfidf performs marginally better. Logistic Regression performs the best, with one of its strengths being good for binary classification models such as this problem. These three models will be used for the Canadian Elections csv and the top performing model for that will be picked for further hyperparameter tuning. "
   ]
  },
  {
   "cell_type": "markdown",
   "metadata": {},
   "source": [
    "### Data Import & Cleaning - Canadian Elections"
   ]
  },
  {
   "cell_type": "code",
   "execution_count": 188,
   "metadata": {},
   "outputs": [
    {
     "data": {
      "text/html": [
       "<div>\n",
       "<style scoped>\n",
       "    .dataframe tbody tr th:only-of-type {\n",
       "        vertical-align: middle;\n",
       "    }\n",
       "\n",
       "    .dataframe tbody tr th {\n",
       "        vertical-align: top;\n",
       "    }\n",
       "\n",
       "    .dataframe thead th {\n",
       "        text-align: right;\n",
       "    }\n",
       "</style>\n",
       "<table border=\"1\" class=\"dataframe\">\n",
       "  <thead>\n",
       "    <tr style=\"text-align: right;\">\n",
       "      <th></th>\n",
       "      <th>sentiment</th>\n",
       "      <th>negative_reason</th>\n",
       "      <th>text</th>\n",
       "    </tr>\n",
       "  </thead>\n",
       "  <tbody>\n",
       "    <tr>\n",
       "      <th>0</th>\n",
       "      <td>negative</td>\n",
       "      <td>Women Reproductive right and Racism</td>\n",
       "      <td>b\"@RosieBarton So instead of your suggestion, ...</td>\n",
       "    </tr>\n",
       "    <tr>\n",
       "      <th>1</th>\n",
       "      <td>positive</td>\n",
       "      <td>NaN</td>\n",
       "      <td>b\"#AllWomanSpacewalk it's real!\\n@Space_Statio...</td>\n",
       "    </tr>\n",
       "    <tr>\n",
       "      <th>2</th>\n",
       "      <td>negative</td>\n",
       "      <td>Economy</td>\n",
       "      <td>b\"#Brantford It's going to cost YOU $94 BILLIO...</td>\n",
       "    </tr>\n",
       "    <tr>\n",
       "      <th>3</th>\n",
       "      <td>positive</td>\n",
       "      <td>NaN</td>\n",
       "      <td>b\"#Canada #CanadaElection2019 #CanadaVotes \\n#...</td>\n",
       "    </tr>\n",
       "    <tr>\n",
       "      <th>4</th>\n",
       "      <td>negative</td>\n",
       "      <td>Economy</td>\n",
       "      <td>b\"#Canada #taxpayers are sick &amp;amp; tired of h...</td>\n",
       "    </tr>\n",
       "  </tbody>\n",
       "</table>\n",
       "</div>"
      ],
      "text/plain": [
       "  sentiment                      negative_reason  \\\n",
       "0  negative  Women Reproductive right and Racism   \n",
       "1  positive                                  NaN   \n",
       "2  negative                              Economy   \n",
       "3  positive                                  NaN   \n",
       "4  negative                              Economy   \n",
       "\n",
       "                                                text  \n",
       "0  b\"@RosieBarton So instead of your suggestion, ...  \n",
       "1  b\"#AllWomanSpacewalk it's real!\\n@Space_Statio...  \n",
       "2  b\"#Brantford It's going to cost YOU $94 BILLIO...  \n",
       "3  b\"#Canada #CanadaElection2019 #CanadaVotes \\n#...  \n",
       "4  b\"#Canada #taxpayers are sick &amp; tired of h...  "
      ]
     },
     "execution_count": 188,
     "metadata": {},
     "output_type": "execute_result"
    }
   ],
   "source": [
    "candf2 = pd.read_csv('Canadian_elections_2019.csv')\n",
    "candf2.head(n=5)"
   ]
  },
  {
   "cell_type": "code",
   "execution_count": 189,
   "metadata": {},
   "outputs": [
    {
     "name": "stderr",
     "output_type": "stream",
     "text": [
      "[nltk_data] Downloading package stopwords to\n",
      "[nltk_data]     C:\\Users\\rahma\\AppData\\Roaming\\nltk_data...\n",
      "[nltk_data]   Package stopwords is already up-to-date!\n"
     ]
    }
   ],
   "source": [
    "# Data cleaning and pre-process dataset\n",
    "nltk.download('stopwords')\n",
    "\n",
    "# TEXT CLENAING\n",
    "TEXT_CLEANING_RE = \"@\\S+|https?:\\S+|http?:\\S|[^A-Za-z0-9]+\" \n",
    "stop_words = stopwords.words(\"english\")\n",
    "stemmer = SnowballStemmer(\"english\")"
   ]
  },
  {
   "cell_type": "code",
   "execution_count": 190,
   "metadata": {},
   "outputs": [],
   "source": [
    "def preprocess(text, stem=False):\n",
    "    # Remove link,user and special characters\n",
    "    text = re.sub(TEXT_CLEANING_RE, ' ', str(text).lower()).strip()\n",
    "    tokens = []\n",
    "    for token in text.split():\n",
    "        if token not in stop_words:\n",
    "            if stem:\n",
    "                tokens.append(stemmer.stem(token))\n",
    "            else:\n",
    "                tokens.append(token)\n",
    "    return \" \".join(tokens)\n",
    "\n",
    "candf2.text = candf2.text.apply(lambda x: preprocess(x))"
   ]
  },
  {
   "cell_type": "markdown",
   "metadata": {},
   "source": [
    "### Exporatory Analysis - Canadian Elections"
   ]
  },
  {
   "cell_type": "code",
   "execution_count": 191,
   "metadata": {},
   "outputs": [
    {
     "data": {
      "image/png": "[encoded data removed]",
      "text/plain": [
       "<Figure size 432x288 with 1 Axes>"
      ]
     },
     "metadata": {
      "needs_background": "light"
     },
     "output_type": "display_data"
    }
   ],
   "source": [
    "# all tweets \n",
    "all_words = \" \".join(candf2.text)\n",
    "\n",
    "# Wordcloud of tweets\n",
    "wordcloud = WordCloud(height=4000, width=10000, stopwords=STOPWORDS, background_color='white')\n",
    "wordcloud = wordcloud.generate(all_words)\n",
    "plt.imshow(wordcloud)\n",
    "plt.axis('off')\n",
    "plt.show()"
   ]
  },
  {
   "cell_type": "markdown",
   "metadata": {},
   "source": [
    "Below, we will attempt to count the number of times there has been a positive tweet about any of the three major parties (NDP, Liberals or Conservatives) as well as negative tweets to determine if we can obtain any insights into the final results"
   ]
  },
  {
   "cell_type": "code",
   "execution_count": 192,
   "metadata": {},
   "outputs": [
    {
     "name": "stdout",
     "output_type": "stream",
     "text": [
      "Number of positive mention for NDP or Jagmeet Singh\n",
      "161\n"
     ]
    }
   ],
   "source": [
    "print('Number of positive mention for NDP or Jagmeet Singh')\n",
    "print(candf2[(candf2['text'].str.contains('ndp|singh|jagmeet'))&(candf2['sentiment'] == 'positive')].shape[0])"
   ]
  },
  {
   "cell_type": "code",
   "execution_count": 193,
   "metadata": {},
   "outputs": [
    {
     "name": "stdout",
     "output_type": "stream",
     "text": [
      "Number of positive mention for Liberals or Trudeau\n",
      "244\n"
     ]
    }
   ],
   "source": [
    "print('Number of positive mention for Liberals or Trudeau')\n",
    "print(candf2[(candf2['text'].str.contains('liberal|trudeau|justin'))&(candf2['sentiment'] == 'positive')].shape[0])"
   ]
  },
  {
   "cell_type": "code",
   "execution_count": 194,
   "metadata": {},
   "outputs": [
    {
     "name": "stdout",
     "output_type": "stream",
     "text": [
      "Number of positive mention for Conservatives or Andrew Scheer\n",
      "192\n"
     ]
    }
   ],
   "source": [
    "print('Number of positive mention for Conservatives or Andrew Scheer')\n",
    "print(candf2[(candf2['text'].str.contains('conservative|andrew|scheer'))&(candf2['sentiment'] == 'positive')].shape[0])"
   ]
  },
  {
   "cell_type": "markdown",
   "metadata": {},
   "source": [
    "Interestingly, the ratio of positive tweets for Liberals:Conservatives (244:192 = 1.27:1) is very close to the actual ratio of number of seats won between the two during the 2019 Federal Elections (157:121 = 1.3:1). The public opinion on social media correlates incredibly well with the actual results of the election. "
   ]
  },
  {
   "cell_type": "code",
   "execution_count": 195,
   "metadata": {},
   "outputs": [
    {
     "name": "stdout",
     "output_type": "stream",
     "text": [
      "Number of negative mention for NDP or Jagmeet Singh\n",
      "100\n"
     ]
    }
   ],
   "source": [
    "print('Number of negative mention for NDP or Jagmeet Singh')\n",
    "print(candf2[(candf2['text'].str.contains('ndp|singh|jagmeet'))&(candf2['sentiment'] == 'negative')].shape[0])"
   ]
  },
  {
   "cell_type": "code",
   "execution_count": 196,
   "metadata": {},
   "outputs": [
    {
     "name": "stdout",
     "output_type": "stream",
     "text": [
      "Number of negative mention for Liberals or Trudeau\n",
      "292\n"
     ]
    }
   ],
   "source": [
    "print('Number of negative mention for Liberals or Trudeau')\n",
    "print(candf2[(candf2['text'].str.contains('liberal|trudeau|justin'))&(candf2['sentiment'] == 'negative')].shape[0])"
   ]
  },
  {
   "cell_type": "code",
   "execution_count": 197,
   "metadata": {},
   "outputs": [
    {
     "name": "stdout",
     "output_type": "stream",
     "text": [
      "Number of negative mention for Conservatives or Andrew Scheer\n",
      "381\n"
     ]
    }
   ],
   "source": [
    "print('Number of negative mention for Conservatives or Andrew Scheer')\n",
    "print(candf2[(candf2['text'].str.contains('conservative|andrew|scheer'))&(candf2['sentiment'] == 'negative')].shape[0])"
   ]
  },
  {
   "cell_type": "markdown",
   "metadata": {},
   "source": [
    "Interestingly, the ratio of negative tweets between Conservatives/Andrew Scheer and Liberal/Justin Trudeau is also 1.3:1, which is the ratio of seats won by Liberals:Conservatives. The negative public opinions on social media correlates incredibly well with the actual results of the election as well. "
   ]
  },
  {
   "cell_type": "markdown",
   "metadata": {},
   "source": [
    "### Model Preparation - Canadian Elections"
   ]
  },
  {
   "cell_type": "code",
   "execution_count": 198,
   "metadata": {},
   "outputs": [
    {
     "name": "stdout",
     "output_type": "stream",
     "text": [
      "      sentiment                      negative_reason  \\\n",
      "0             0  Women Reproductive right and Racism   \n",
      "1             4                                  NaN   \n",
      "2             0                              Economy   \n",
      "3             4                                  NaN   \n",
      "4             0                              Economy   \n",
      "5             0                               Others   \n",
      "6             4                                  NaN   \n",
      "7             4                                  NaN   \n",
      "8             0                               Others   \n",
      "9             0                              Scandal   \n",
      "10            4                                  NaN   \n",
      "11            4                                  NaN   \n",
      "12            4                                  NaN   \n",
      "13            4                                  NaN   \n",
      "14            0                               Others   \n",
      "15            0                            Tell lies   \n",
      "16            4                                  NaN   \n",
      "17            4                                  NaN   \n",
      "18            4                                  NaN   \n",
      "19            0                              Scandal   \n",
      "20            0                               Others   \n",
      "21            0                               Others   \n",
      "22            4                                  NaN   \n",
      "23            4                                  NaN   \n",
      "24            0                               Others   \n",
      "25            4                                  NaN   \n",
      "26            0                              Scandal   \n",
      "27            0                               Others   \n",
      "28            4                                  NaN   \n",
      "29            0                            Tell lies   \n",
      "...         ...                                  ...   \n",
      "2103          0                            Tell lies   \n",
      "2104          4                                  NaN   \n",
      "2105          0                            Tell lies   \n",
      "2106          0                              Economy   \n",
      "2107          4                                  NaN   \n",
      "2108          0                            Tell lies   \n",
      "2109          0                               Others   \n",
      "2110          4                                  NaN   \n",
      "2111          4                                  NaN   \n",
      "2112          0                            Tell lies   \n",
      "2113          4                                  NaN   \n",
      "2114          0                               Others   \n",
      "2115          0                              Economy   \n",
      "2116          4                                  NaN   \n",
      "2117          4                                  NaN   \n",
      "2118          0  Women Reproductive right and Racism   \n",
      "2119          0  Women Reproductive right and Racism   \n",
      "2120          4                                  NaN   \n",
      "2121          0                               Others   \n",
      "2122          0                            Tell lies   \n",
      "2123          4                                  NaN   \n",
      "2124          0                            Tell lies   \n",
      "2125          0                               Others   \n",
      "2126          0                      Climate Problem   \n",
      "2127          4                                  NaN   \n",
      "2128          0                              Scandal   \n",
      "2129          0                              Scandal   \n",
      "2130          4                                  NaN   \n",
      "2131          0  Women Reproductive right and Racism   \n",
      "2132          4                                  NaN   \n",
      "\n",
      "                                                   text  \n",
      "0     b rosiebarton instead suggestion agree canadia...  \n",
      "1     b allwomanspacewalk real n n etobicokenorth ci...  \n",
      "2     b brantford going cost 94 billion next 4 years...  \n",
      "3     b canada canadaelection2019 canadavotes n elxn...  \n",
      "4     b canada taxpayers sick amp tired hard earned ...  \n",
      "5     b canadavotes2019 elxn43 cdnpoli facts blastfr...  \n",
      "6     b cdnmedia elxn43 cdnpoli ppc rocky dong hands...  \n",
      "7     b cdnpoli elxn43 liberals double promised 2015...  \n",
      "8     b chooseforward cdnpoli elxn43 ncanada make am...  \n",
      "9     b cpckinsellagate nlet see receipts pays warre...  \n",
      "10    b elxn43 two days away voting e day read prime...  \n",
      "11    b elxn43 prediction justin trudeau lpc loses m...  \n",
      "12    b icymi analysis ford nation respond renata fo...  \n",
      "13    b icymi analysis ford nation respond renata fo...  \n",
      "14    b kinsella runs deep w cpc lyingandy crazed an...  \n",
      "15    b lyingandy history answering embarrassing que...  \n",
      "16    b threadalert nhere study sheet unfit candidat...  \n",
      "17    b uprisingh definitely looking forward asian p...  \n",
      "18    b uptoyouth cdnpoli elxn43 today youth smart s...  \n",
      "19    b urgent please watch video david haskell peop...  \n",
      "20    b policy comment illegal immoral nefarious act...  \n",
      "21    b andrewscheer fit hold public office let alon...  \n",
      "22    b yorkuhealth prof mary wiktorowicz weighs hea...  \n",
      "23    b 222minutes part leftist justinjournos virtue...  \n",
      "24    b alan poirier alberta saskatchewan ontario pr...  \n",
      "25    b alanthomasdoyle hi alan wondering could put ...  \n",
      "26    b alternatespunky electionscan e electionson c...  \n",
      "27    b althiaraj justintrudeau justintrudeau using ...  \n",
      "28    b althiaraj justintrudeau well yeah jam n nask...  \n",
      "29    b althiaraj ask questions hypotheticals n cdnp...  \n",
      "...                                                 ...  \n",
      "2103  b wow lot bigger lying insurance broker folks ...  \n",
      "2104  b wow supposed quick whistle stop turned hundr...  \n",
      "2105  b wowsers nlooks like cbc globe relied liberal...  \n",
      "2106  b wrong n nyou xe2 x80 x99re one using alberta...  \n",
      "2107  b wrote intro piece us readers via thenation n...  \n",
      "2108  b yay cbckatie nice see pushback lies attempts...  \n",
      "2109  b yes want affordable future justintrudeau can...  \n",
      "2110  b yes ready xf0 x9f xa7 xa1 xf0 x9f xa7 xa1 el...  \n",
      "2111  b yes us think votendp like many like minded p...  \n",
      "2112            b yes andrewscheer story elxn43 cdnpoli  \n",
      "2113  b yes free tuition key plank platform cant kee...  \n",
      "2114  b yes doubt busy schedule last minute liberal ...  \n",
      "2115  b yes liberals xe2 x80 x99t get majority ndp a...  \n",
      "2116  b yes xe2 x80 x99s endorsement n nbut importan...  \n",
      "2117  b yes encouraged one another cast ballots poll...  \n",
      "2118  b yet andrew scheer maintains expects us belie...  \n",
      "2119  b yet another example constant danger conserva...  \n",
      "2120  b absolutely correct priya canadian media unfa...  \n",
      "2121  b sort betraying memory fought freedom cdnpoli...  \n",
      "2122  b always tell person good campaigning stupid s...  \n",
      "2123  b miltonon make cancer sexy lady lraitt embarr...  \n",
      "2124  b vote dishonest slandering politicians always...  \n",
      "2125  b xe2 x80 x99t supervillain election failed jo...  \n",
      "2126  b care limiting climatechange wondering party ...  \n",
      "2127  b heard first head figure aligns best values v...  \n",
      "2128  b know good enough job smearing campaign right...  \n",
      "2129  b missed comment deflecting issue answer best ...  \n",
      "2130  b daily reminder n endorses strategic voting n...  \n",
      "2131  b yup going reopen abortion debate xf0 x9f x98...  \n",
      "2132                                b zing n ndp elxn43  \n",
      "\n",
      "[2133 rows x 3 columns]\n"
     ]
    }
   ],
   "source": [
    "# Replacing the class value to integer\n",
    "candf2.sentiment.replace(('positive', 'negative'), (4, 0), inplace=True)\n",
    "print(candf2)"
   ]
  },
  {
   "cell_type": "code",
   "execution_count": 199,
   "metadata": {},
   "outputs": [
    {
     "data": {
      "text/plain": [
       "0    [b, rosiebarton, instead, suggestion, agree, c...\n",
       "1    [b, allwomanspacewalk, real, n, n, etobicokeno...\n",
       "2    [b, brantford, going, cost, 94, billion, next,...\n",
       "3    [b, canada, canadaelection2019, canadavotes, n...\n",
       "4    [b, canada, taxpayers, sick, amp, tired, hard,...\n",
       "Name: text, dtype: object"
      ]
     },
     "execution_count": 199,
     "metadata": {},
     "output_type": "execute_result"
    }
   ],
   "source": [
    "# tokenize all the cleaned tweets in our dataset. Tokens are individual terms or words, \n",
    "# and tokenization is the process of splitting a string of text into tokens\n",
    "tokenized_tweet = candf2['text'].apply(lambda x: x.split())\n",
    "tokenized_tweet.head()"
   ]
  },
  {
   "cell_type": "code",
   "execution_count": 200,
   "metadata": {},
   "outputs": [
    {
     "data": {
      "text/plain": [
       "0    [b, rosiebarton, instead, suggest, agre, canad...\n",
       "1    [b, allwomanspacewalk, real, n, n, etobicokeno...\n",
       "2    [b, brantford, go, cost, 94, billion, next, 4,...\n",
       "3    [b, canada, canadaelection2019, canadavot, n, ...\n",
       "4    [b, canada, taxpay, sick, amp, tire, hard, ear...\n",
       "Name: text, dtype: object"
      ]
     },
     "execution_count": 200,
     "metadata": {},
     "output_type": "execute_result"
    }
   ],
   "source": [
    "# Stemming is a rule-based process of stripping the suffixes (“ing”, “ly”, “es”, “s” etc) from a word\n",
    "from nltk.stem.porter import *\n",
    "stemmer = PorterStemmer()\n",
    "\n",
    "tokenized_tweet = tokenized_tweet.apply(lambda x: [stemmer.stem(i) for i in x]) # stemming\n",
    "tokenized_tweet.head()"
   ]
  },
  {
   "cell_type": "code",
   "execution_count": 201,
   "metadata": {},
   "outputs": [
    {
     "name": "stdout",
     "output_type": "stream",
     "text": [
      "      sentiment                      negative_reason  \\\n",
      "0             0  Women Reproductive right and Racism   \n",
      "1             4                                  NaN   \n",
      "2             0                              Economy   \n",
      "3             4                                  NaN   \n",
      "4             0                              Economy   \n",
      "5             0                               Others   \n",
      "6             4                                  NaN   \n",
      "7             4                                  NaN   \n",
      "8             0                               Others   \n",
      "9             0                              Scandal   \n",
      "10            4                                  NaN   \n",
      "11            4                                  NaN   \n",
      "12            4                                  NaN   \n",
      "13            4                                  NaN   \n",
      "14            0                               Others   \n",
      "15            0                            Tell lies   \n",
      "16            4                                  NaN   \n",
      "17            4                                  NaN   \n",
      "18            4                                  NaN   \n",
      "19            0                              Scandal   \n",
      "20            0                               Others   \n",
      "21            0                               Others   \n",
      "22            4                                  NaN   \n",
      "23            4                                  NaN   \n",
      "24            0                               Others   \n",
      "25            4                                  NaN   \n",
      "26            0                              Scandal   \n",
      "27            0                               Others   \n",
      "28            4                                  NaN   \n",
      "29            0                            Tell lies   \n",
      "...         ...                                  ...   \n",
      "2103          0                            Tell lies   \n",
      "2104          4                                  NaN   \n",
      "2105          0                            Tell lies   \n",
      "2106          0                              Economy   \n",
      "2107          4                                  NaN   \n",
      "2108          0                            Tell lies   \n",
      "2109          0                               Others   \n",
      "2110          4                                  NaN   \n",
      "2111          4                                  NaN   \n",
      "2112          0                            Tell lies   \n",
      "2113          4                                  NaN   \n",
      "2114          0                               Others   \n",
      "2115          0                              Economy   \n",
      "2116          4                                  NaN   \n",
      "2117          4                                  NaN   \n",
      "2118          0  Women Reproductive right and Racism   \n",
      "2119          0  Women Reproductive right and Racism   \n",
      "2120          4                                  NaN   \n",
      "2121          0                               Others   \n",
      "2122          0                            Tell lies   \n",
      "2123          4                                  NaN   \n",
      "2124          0                            Tell lies   \n",
      "2125          0                               Others   \n",
      "2126          0                      Climate Problem   \n",
      "2127          4                                  NaN   \n",
      "2128          0                              Scandal   \n",
      "2129          0                              Scandal   \n",
      "2130          4                                  NaN   \n",
      "2131          0  Women Reproductive right and Racism   \n",
      "2132          4                                  NaN   \n",
      "\n",
      "                                                   text  \n",
      "0     b rosiebarton instead suggest agre canadian wo...  \n",
      "1     b allwomanspacewalk real n n etobicokenorth ci...  \n",
      "2     b brantford go cost 94 billion next 4 year ask...  \n",
      "3     b canada canadaelection2019 canadavot n elxn43...  \n",
      "4     b canada taxpay sick amp tire hard earn donat ...  \n",
      "5     b canadavotes2019 elxn43 cdnpoli fact blastfro...  \n",
      "6     b cdnmedia elxn43 cdnpoli ppc rocki dong hand ...  \n",
      "7     b cdnpoli elxn43 liber doubl promis 2015 natio...  \n",
      "8     b chooseforward cdnpoli elxn43 ncanada make am...  \n",
      "9     b cpckinsellag nlet see receipt pay warren kin...  \n",
      "10    b elxn43 two day away vote e day read primer l...  \n",
      "11    b elxn43 predict justin trudeau lpc lose monda...  \n",
      "12    b icymi analysi ford nation respond renata for...  \n",
      "13    b icymi analysi ford nation respond renata for...  \n",
      "14    b kinsella run deep w cpc lyingandi craze anti...  \n",
      "15    b lyingandi histori answer embarrass question ...  \n",
      "16    b threadalert nhere studi sheet unfit candid n...  \n",
      "17    b uprisingh definit look forward asian paramil...  \n",
      "18    b uptoyouth cdnpoli elxn43 today youth smart s...  \n",
      "19    b urgent pleas watch video david haskel peopl ...  \n",
      "20    b polici comment illeg immor nefari activ cpc ...  \n",
      "21    b andrewsch fit hold public offic let alon pm ...  \n",
      "22    b yorkuhealth prof mari wiktorowicz weigh heal...  \n",
      "23    b 222minut part leftist justinjourno virtu sig...  \n",
      "24    b alan poirier alberta saskatchewan ontario pr...  \n",
      "25    b alanthomasdoyl hi alan wonder could put quic...  \n",
      "26    b alternatespunki electionscan e electionson c...  \n",
      "27    b althiaraj justintrudeau justintrudeau use 5 ...  \n",
      "28    b althiaraj justintrudeau well yeah jam n nask...  \n",
      "29    b althiaraj ask question hypothet n cdnpoli el...  \n",
      "...                                                 ...  \n",
      "2103  b wow lot bigger lie insur broker folk elxn201...  \n",
      "2104  b wow suppos quick whistl stop turn hundr show...  \n",
      "2105  b wowser nlook like cbc globe reli liber oper ...  \n",
      "2106  b wrong n nyou xe2 x80 x99re one use alberta p...  \n",
      "2107  b wrote intro piec us reader via thenat nabout...  \n",
      "2108  b yay cbckati nice see pushback lie attempt an...  \n",
      "2109  b ye want afford futur justintrudeau canada be...  \n",
      "2110  b ye readi xf0 x9f xa7 xa1 xf0 x9f xa7 xa1 elx...  \n",
      "2111  b ye us think votendp like mani like mind peop...  \n",
      "2112                b ye andrewsch stori elxn43 cdnpoli  \n",
      "2113  b ye free tuition key plank platform cant keep...  \n",
      "2114  b ye doubt busi schedul last minut liber troll...  \n",
      "2115  b ye liber xe2 x80 x99t get major ndp ask pipe...  \n",
      "2116  b ye xe2 x80 x99 endors n nbut import thing ex...  \n",
      "2117  b ye encourag one anoth cast ballot poll close...  \n",
      "2118  b yet andrew scheer maintain expect us believ ...  \n",
      "2119  b yet anoth exampl constant danger conserv pos...  \n",
      "2120  b absolut correct priya canadian media unfairl...  \n",
      "2121  b sort betray memori fought freedom cdnpoli el...  \n",
      "2122  b alway tell person good campaign stupid state...  \n",
      "2123  b miltonon make cancer sexi ladi lraitt embarr...  \n",
      "2124  b vote dishonest slander politician alway choo...  \n",
      "2125  b xe2 x80 x99t supervillain elect fail job n n...  \n",
      "2126  b care limit climatechang wonder parti vote el...  \n",
      "2127  b heard first head figur align best valu vote ...  \n",
      "2128  b know good enough job smear campaign right an...  \n",
      "2129  b miss comment deflect issu answer best respon...  \n",
      "2130  b daili remind n endors strateg vote n elxn43 ...  \n",
      "2131  b yup go reopen abort debat xf0 x9f x98 x8f n ...  \n",
      "2132                                b zing n ndp elxn43  \n",
      "\n",
      "[2133 rows x 3 columns]\n"
     ]
    }
   ],
   "source": [
    "# let’s stitch these tokens back together\n",
    "for i in range(len(tokenized_tweet)):\n",
    "    tokenized_tweet[i] = ' '.join(tokenized_tweet[i])\n",
    "\n",
    "candf2['text'] = tokenized_tweet\n",
    "print(candf2)"
   ]
  },
  {
   "cell_type": "code",
   "execution_count": 202,
   "metadata": {},
   "outputs": [
    {
     "name": "stdout",
     "output_type": "stream",
     "text": [
      "  (0, 18)\t1\n",
      "  (0, 107)\t1\n",
      "  (0, 131)\t1\n",
      "  (0, 453)\t1\n",
      "  (0, 723)\t1\n",
      "  (0, 918)\t1\n",
      "  (0, 664)\t1\n",
      "  (0, 348)\t1\n",
      "  (0, 176)\t1\n",
      "  (0, 56)\t1\n",
      "  (0, 867)\t1\n",
      "  (0, 919)\t1\n",
      "  (0, 111)\t1\n",
      "  (0, 40)\t1\n",
      "  (0, 812)\t1\n",
      "  (0, 408)\t1\n",
      "  (0, 725)\t1\n",
      "  (1, 591)\t1\n",
      "  (1, 691)\t1\n",
      "  (1, 131)\t1\n",
      "  (2, 428)\t1\n",
      "  (2, 66)\t1\n",
      "  (2, 992)\t1\n",
      "  (2, 87)\t1\n",
      "  (2, 188)\t1\n",
      "  :\t:\n",
      "  (2129, 390)\t1\n",
      "  (2129, 59)\t1\n",
      "  (2129, 194)\t1\n",
      "  (2129, 83)\t1\n",
      "  (2129, 109)\t1\n",
      "  (2129, 66)\t1\n",
      "  (2129, 131)\t1\n",
      "  (2130, 350)\t1\n",
      "  (2130, 801)\t1\n",
      "  (2130, 269)\t1\n",
      "  (2130, 706)\t1\n",
      "  (2130, 266)\t1\n",
      "  (2130, 479)\t1\n",
      "  (2130, 892)\t1\n",
      "  (2130, 538)\t1\n",
      "  (2130, 131)\t1\n",
      "  (2131, 214)\t1\n",
      "  (2131, 951)\t1\n",
      "  (2131, 736)\t1\n",
      "  (2131, 735)\t1\n",
      "  (2131, 944)\t1\n",
      "  (2131, 963)\t1\n",
      "  (2131, 988)\t1\n",
      "  (2131, 18)\t1\n",
      "  (2132, 538)\t1\n"
     ]
    }
   ],
   "source": [
    "# Bag-of-Words features can be easily created using sklearn’s CountVectorizer function. \n",
    "# We will set the parameter max_features = 1000 to select only top 1000 terms ordered by term frequency across the corpus\n",
    "from sklearn.feature_extraction.text import CountVectorizer\n",
    "bow_vectorizer = CountVectorizer(max_df=0.90, min_df=2, max_features=1000, stop_words='english')\n",
    "# bag-of-words feature matrix\n",
    "bow = bow_vectorizer.fit_transform(candf2['text'])\n",
    "print(bow)"
   ]
  },
  {
   "cell_type": "code",
   "execution_count": 203,
   "metadata": {},
   "outputs": [],
   "source": [
    "# TF-IDF works by penalizing the common words by assigning them lower weights while giving \n",
    "# importance to words which are rare in the entire corpus but appear in good numbers\n",
    "from sklearn.feature_extraction.text import TfidfVectorizer\n",
    "tfidf_vectorizer = TfidfVectorizer(max_df=0.90, min_df=2, max_features=1000, stop_words='english')\n",
    "# TF-IDF feature matrix\n",
    "tfidf = tfidf_vectorizer.fit_transform(candf2['text'])"
   ]
  },
  {
   "cell_type": "markdown",
   "metadata": {},
   "source": [
    "As we saw from the Genric Tweets analysis, TFIDF performed marginally better than Bag of Words. Therefore, in the interest of processing time, TFIDF will be used for Canadian Elections."
   ]
  },
  {
   "cell_type": "code",
   "execution_count": 204,
   "metadata": {},
   "outputs": [],
   "source": [
    "# Spliting Data form above reduction dataset\n",
    "from sklearn.model_selection import train_test_split\n",
    "X_train, X_valid, y_train, y_valid = train_test_split(tfidf, candf2['sentiment'], test_size = 0.3, random_state = 3)"
   ]
  },
  {
   "cell_type": "markdown",
   "metadata": {},
   "source": [
    "### Model Implementation & Results - Canadian Elections"
   ]
  },
  {
   "cell_type": "code",
   "execution_count": 205,
   "metadata": {},
   "outputs": [
    {
     "name": "stdout",
     "output_type": "stream",
     "text": [
      "Support Vector Classifier accuracy: 52.03124999999999%\n",
      "Logistic Regression accuracy: 48.90625%\n",
      "Random Forest Classifier accuracy: 50.46874999999999%\n"
     ]
    }
   ],
   "source": [
    "#predicting various Classification algorithms \n",
    "accuracy_scores = np.zeros(3)\n",
    "\n",
    "# Support Vector Classifier\n",
    "prediction_svm = svm.predict(X_valid)\n",
    "accuracy_scores[0] = accuracy_score(y_valid, prediction_svm)*100\n",
    "print('Support Vector Classifier accuracy: {}%'.format(accuracy_scores[0]))\n",
    "\n",
    "# Logistic Regression\n",
    "prediction_logit = logis.predict(X_valid)\n",
    "accuracy_scores[1] = accuracy_score(y_valid, prediction_logit)*100\n",
    "print('Logistic Regression accuracy: {}%'.format(accuracy_scores[1]))\n",
    "\n",
    "# Random Forest\n",
    "prediction_random = random.predict(X_valid)\n",
    "accuracy_scores[2] = accuracy_score(y_valid, prediction_random)*100\n",
    "print('Random Forest Classifier accuracy: {}%'.format(accuracy_scores[2]))\n"
   ]
  },
  {
   "cell_type": "markdown",
   "metadata": {},
   "source": [
    "Similar to the Generic Tweets file, Logistic Regrssion appears to perform slightly better for Canadian Elections as well. This model will be selected going forward for further hyperparameter tuning in order to improve the accuracy. "
   ]
  },
  {
   "cell_type": "code",
   "execution_count": 206,
   "metadata": {},
   "outputs": [
    {
     "data": {
      "text/plain": [
       "Text(0.5, 1.0, 'Accuracy of various algorithms')"
      ]
     },
     "execution_count": 206,
     "metadata": {},
     "output_type": "execute_result"
    },
    {
     "data": {
      "image/png": "[encoded data removed]",
      "text/plain": [
       "<Figure size 432x288 with 1 Axes>"
      ]
     },
     "metadata": {
      "needs_background": "light"
     },
     "output_type": "display_data"
    }
   ],
   "source": [
    "# Accuracy comparison of various algorithms\n",
    "colors = cm.rainbow(np.linspace(0, 2, 9))\n",
    "labels = ['SVC', 'LR', 'RF']\n",
    "plt.bar(labels,\n",
    "        accuracy_scores,\n",
    "        color = colors)\n",
    "plt.xlabel('Classifiers')\n",
    "plt.ylabel('Accuracy')\n",
    "plt.title('Accuracy of various algorithms')"
   ]
  },
  {
   "cell_type": "code",
   "execution_count": 207,
   "metadata": {},
   "outputs": [
    {
     "name": "stderr",
     "output_type": "stream",
     "text": [
      "C:\\ProgramData\\Anaconda3\\lib\\site-packages\\sklearn\\model_selection\\_split.py:1978: FutureWarning: The default value of cv will change from 3 to 5 in version 0.22. Specify it explicitly to silence this warning.\n",
      "  warnings.warn(CV_WARNING, FutureWarning)\n",
      "[Parallel(n_jobs=1)]: Using backend SequentialBackend with 1 concurrent workers.\n"
     ]
    },
    {
     "name": "stdout",
     "output_type": "stream",
     "text": [
      "Fitting 3 folds for each of 25 candidates, totalling 75 fits\n",
      "[CV] C=0.1, gamma=1, kernel=rbf ......................................\n",
      "[CV] .......... C=0.1, gamma=1, kernel=rbf, score=0.524, total=   0.2s"
     ]
    },
    {
     "name": "stderr",
     "output_type": "stream",
     "text": [
      "[Parallel(n_jobs=1)]: Done   1 out of   1 | elapsed:    0.1s remaining:    0.0s\n",
      "[Parallel(n_jobs=1)]: Done   2 out of   2 | elapsed:    0.2s remaining:    0.0s\n"
     ]
    },
    {
     "name": "stdout",
     "output_type": "stream",
     "text": [
      "\n",
      "[CV] C=0.1, gamma=1, kernel=rbf ......................................\n",
      "[CV] .......... C=0.1, gamma=1, kernel=rbf, score=0.524, total=   0.2s\n",
      "[CV] C=0.1, gamma=1, kernel=rbf ......................................\n",
      "[CV] .......... C=0.1, gamma=1, kernel=rbf, score=0.523, total=   0.2s\n",
      "[CV] C=0.1, gamma=0.1, kernel=rbf ....................................\n",
      "[CV] ........ C=0.1, gamma=0.1, kernel=rbf, score=0.524, total=   0.2s\n",
      "[CV] C=0.1, gamma=0.1, kernel=rbf ....................................\n",
      "[CV] ........ C=0.1, gamma=0.1, kernel=rbf, score=0.524, total=   0.2s\n",
      "[CV] C=0.1, gamma=0.1, kernel=rbf ....................................\n",
      "[CV] ........ C=0.1, gamma=0.1, kernel=rbf, score=0.523, total=   0.2s\n",
      "[CV] C=0.1, gamma=0.01, kernel=rbf ...................................\n",
      "[CV] ....... C=0.1, gamma=0.01, kernel=rbf, score=0.524, total=   0.2s\n",
      "[CV] C=0.1, gamma=0.01, kernel=rbf ...................................\n",
      "[CV] ....... C=0.1, gamma=0.01, kernel=rbf, score=0.524, total=   0.2s\n",
      "[CV] C=0.1, gamma=0.01, kernel=rbf ...................................\n",
      "[CV] ....... C=0.1, gamma=0.01, kernel=rbf, score=0.523, total=   0.2s\n",
      "[CV] C=0.1, gamma=0.001, kernel=rbf ..................................\n",
      "[CV] ...... C=0.1, gamma=0.001, kernel=rbf, score=0.524, total=   0.2s\n",
      "[CV] C=0.1, gamma=0.001, kernel=rbf ..................................\n",
      "[CV] ...... C=0.1, gamma=0.001, kernel=rbf, score=0.524, total=   0.2s\n",
      "[CV] C=0.1, gamma=0.001, kernel=rbf ..................................\n",
      "[CV] ...... C=0.1, gamma=0.001, kernel=rbf, score=0.523, total=   0.2s\n",
      "[CV] C=0.1, gamma=0.0001, kernel=rbf .................................\n",
      "[CV] ..... C=0.1, gamma=0.0001, kernel=rbf, score=0.524, total=   0.2s\n",
      "[CV] C=0.1, gamma=0.0001, kernel=rbf .................................\n",
      "[CV] ..... C=0.1, gamma=0.0001, kernel=rbf, score=0.524, total=   0.3s\n",
      "[CV] C=0.1, gamma=0.0001, kernel=rbf .................................\n",
      "[CV] ..... C=0.1, gamma=0.0001, kernel=rbf, score=0.523, total=   0.2s\n",
      "[CV] C=1, gamma=1, kernel=rbf ........................................\n",
      "[CV] ............ C=1, gamma=1, kernel=rbf, score=0.663, total=   0.3s\n",
      "[CV] C=1, gamma=1, kernel=rbf ........................................\n",
      "[CV] ............ C=1, gamma=1, kernel=rbf, score=0.695, total=   0.3s\n",
      "[CV] C=1, gamma=1, kernel=rbf ........................................\n",
      "[CV] ............ C=1, gamma=1, kernel=rbf, score=0.684, total=   0.2s\n",
      "[CV] C=1, gamma=0.1, kernel=rbf ......................................\n",
      "[CV] .......... C=1, gamma=0.1, kernel=rbf, score=0.637, total=   0.3s\n",
      "[CV] C=1, gamma=0.1, kernel=rbf ......................................\n",
      "[CV] .......... C=1, gamma=0.1, kernel=rbf, score=0.629, total=   0.3s\n",
      "[CV] C=1, gamma=0.1, kernel=rbf ......................................\n",
      "[CV] .......... C=1, gamma=0.1, kernel=rbf, score=0.644, total=   0.3s\n",
      "[CV] C=1, gamma=0.01, kernel=rbf .....................................\n",
      "[CV] ......... C=1, gamma=0.01, kernel=rbf, score=0.524, total=   0.2s\n",
      "[CV] C=1, gamma=0.01, kernel=rbf .....................................\n",
      "[CV] ......... C=1, gamma=0.01, kernel=rbf, score=0.524, total=   0.2s\n",
      "[CV] C=1, gamma=0.01, kernel=rbf .....................................\n",
      "[CV] ......... C=1, gamma=0.01, kernel=rbf, score=0.523, total=   0.2s\n",
      "[CV] C=1, gamma=0.001, kernel=rbf ....................................\n",
      "[CV] ........ C=1, gamma=0.001, kernel=rbf, score=0.524, total=   0.2s\n",
      "[CV] C=1, gamma=0.001, kernel=rbf ....................................\n",
      "[CV] ........ C=1, gamma=0.001, kernel=rbf, score=0.524, total=   0.2s\n",
      "[CV] C=1, gamma=0.001, kernel=rbf ....................................\n",
      "[CV] ........ C=1, gamma=0.001, kernel=rbf, score=0.523, total=   0.2s\n",
      "[CV] C=1, gamma=0.0001, kernel=rbf ...................................\n",
      "[CV] ....... C=1, gamma=0.0001, kernel=rbf, score=0.524, total=   0.2s\n",
      "[CV] C=1, gamma=0.0001, kernel=rbf ...................................\n",
      "[CV] ....... C=1, gamma=0.0001, kernel=rbf, score=0.524, total=   0.2s\n",
      "[CV] C=1, gamma=0.0001, kernel=rbf ...................................\n",
      "[CV] ....... C=1, gamma=0.0001, kernel=rbf, score=0.523, total=   0.2s\n",
      "[CV] C=10, gamma=1, kernel=rbf .......................................\n",
      "[CV] ........... C=10, gamma=1, kernel=rbf, score=0.667, total=   0.2s\n",
      "[CV] C=10, gamma=1, kernel=rbf .......................................\n",
      "[CV] ........... C=10, gamma=1, kernel=rbf, score=0.663, total=   0.2s\n",
      "[CV] C=10, gamma=1, kernel=rbf .......................................\n",
      "[CV] ........... C=10, gamma=1, kernel=rbf, score=0.684, total=   0.2s\n",
      "[CV] C=10, gamma=0.1, kernel=rbf .....................................\n",
      "[CV] ......... C=10, gamma=0.1, kernel=rbf, score=0.653, total=   0.1s\n",
      "[CV] C=10, gamma=0.1, kernel=rbf .....................................\n",
      "[CV] ......... C=10, gamma=0.1, kernel=rbf, score=0.663, total=   0.2s\n",
      "[CV] C=10, gamma=0.1, kernel=rbf .....................................\n",
      "[CV] ......... C=10, gamma=0.1, kernel=rbf, score=0.668, total=   0.2s\n",
      "[CV] C=10, gamma=0.01, kernel=rbf ....................................\n",
      "[CV] ........ C=10, gamma=0.01, kernel=rbf, score=0.647, total=   0.2s\n",
      "[CV] C=10, gamma=0.01, kernel=rbf ....................................\n",
      "[CV] ........ C=10, gamma=0.01, kernel=rbf, score=0.639, total=   0.2s\n",
      "[CV] C=10, gamma=0.01, kernel=rbf ....................................\n",
      "[CV] ........ C=10, gamma=0.01, kernel=rbf, score=0.662, total=   0.2s\n",
      "[CV] C=10, gamma=0.001, kernel=rbf ...................................\n",
      "[CV] ....... C=10, gamma=0.001, kernel=rbf, score=0.524, total=   0.2s\n",
      "[CV] C=10, gamma=0.001, kernel=rbf ...................................\n",
      "[CV] ....... C=10, gamma=0.001, kernel=rbf, score=0.524, total=   0.2s\n",
      "[CV] C=10, gamma=0.001, kernel=rbf ...................................\n",
      "[CV] ....... C=10, gamma=0.001, kernel=rbf, score=0.523, total=   0.2s\n",
      "[CV] C=10, gamma=0.0001, kernel=rbf ..................................\n",
      "[CV] ...... C=10, gamma=0.0001, kernel=rbf, score=0.524, total=   0.2s\n",
      "[CV] C=10, gamma=0.0001, kernel=rbf ..................................\n",
      "[CV] ...... C=10, gamma=0.0001, kernel=rbf, score=0.524, total=   0.2s\n",
      "[CV] C=10, gamma=0.0001, kernel=rbf ..................................\n",
      "[CV] ...... C=10, gamma=0.0001, kernel=rbf, score=0.523, total=   0.2s\n",
      "[CV] C=100, gamma=1, kernel=rbf ......................................\n",
      "[CV] .......... C=100, gamma=1, kernel=rbf, score=0.671, total=   0.2s\n",
      "[CV] C=100, gamma=1, kernel=rbf ......................................\n",
      "[CV] .......... C=100, gamma=1, kernel=rbf, score=0.663, total=   0.2s\n",
      "[CV] C=100, gamma=1, kernel=rbf ......................................\n",
      "[CV] .......... C=100, gamma=1, kernel=rbf, score=0.684, total=   0.2s\n",
      "[CV] C=100, gamma=0.1, kernel=rbf ....................................\n",
      "[CV] ........ C=100, gamma=0.1, kernel=rbf, score=0.631, total=   0.2s\n",
      "[CV] C=100, gamma=0.1, kernel=rbf ....................................\n",
      "[CV] ........ C=100, gamma=0.1, kernel=rbf, score=0.620, total=   0.2s\n",
      "[CV] C=100, gamma=0.1, kernel=rbf ....................................\n",
      "[CV] ........ C=100, gamma=0.1, kernel=rbf, score=0.662, total=   0.2s\n",
      "[CV] C=100, gamma=0.01, kernel=rbf ...................................\n",
      "[CV] ....... C=100, gamma=0.01, kernel=rbf, score=0.663, total=   0.1s\n",
      "[CV] C=100, gamma=0.01, kernel=rbf ...................................\n",
      "[CV] ....... C=100, gamma=0.01, kernel=rbf, score=0.661, total=   0.1s\n",
      "[CV] C=100, gamma=0.01, kernel=rbf ...................................\n",
      "[CV] ....... C=100, gamma=0.01, kernel=rbf, score=0.660, total=   0.1s\n",
      "[CV] C=100, gamma=0.001, kernel=rbf ..................................\n",
      "[CV] ...... C=100, gamma=0.001, kernel=rbf, score=0.645, total=   0.2s\n",
      "[CV] C=100, gamma=0.001, kernel=rbf ..................................\n",
      "[CV] ...... C=100, gamma=0.001, kernel=rbf, score=0.647, total=   0.2s\n",
      "[CV] C=100, gamma=0.001, kernel=rbf ..................................\n",
      "[CV] ...... C=100, gamma=0.001, kernel=rbf, score=0.662, total=   0.2s\n",
      "[CV] C=100, gamma=0.0001, kernel=rbf .................................\n",
      "[CV] ..... C=100, gamma=0.0001, kernel=rbf, score=0.524, total=   0.2s\n",
      "[CV] C=100, gamma=0.0001, kernel=rbf .................................\n",
      "[CV] ..... C=100, gamma=0.0001, kernel=rbf, score=0.524, total=   0.2s\n",
      "[CV] C=100, gamma=0.0001, kernel=rbf .................................\n",
      "[CV] ..... C=100, gamma=0.0001, kernel=rbf, score=0.523, total=   0.2s\n",
      "[CV] C=1000, gamma=1, kernel=rbf .....................................\n",
      "[CV] ......... C=1000, gamma=1, kernel=rbf, score=0.671, total=   0.2s\n",
      "[CV] C=1000, gamma=1, kernel=rbf .....................................\n",
      "[CV] ......... C=1000, gamma=1, kernel=rbf, score=0.663, total=   0.2s\n",
      "[CV] C=1000, gamma=1, kernel=rbf .....................................\n",
      "[CV] ......... C=1000, gamma=1, kernel=rbf, score=0.684, total=   0.2s\n",
      "[CV] C=1000, gamma=0.1, kernel=rbf ...................................\n",
      "[CV] ....... C=1000, gamma=0.1, kernel=rbf, score=0.629, total=   0.2s\n",
      "[CV] C=1000, gamma=0.1, kernel=rbf ...................................\n",
      "[CV] ....... C=1000, gamma=0.1, kernel=rbf, score=0.631, total=   0.2s\n",
      "[CV] C=1000, gamma=0.1, kernel=rbf ...................................\n",
      "[CV] ....... C=1000, gamma=0.1, kernel=rbf, score=0.668, total=   0.2s\n",
      "[CV] C=1000, gamma=0.01, kernel=rbf ..................................\n",
      "[CV] ...... C=1000, gamma=0.01, kernel=rbf, score=0.635, total=   0.2s\n",
      "[CV] C=1000, gamma=0.01, kernel=rbf ..................................\n",
      "[CV] ...... C=1000, gamma=0.01, kernel=rbf, score=0.614, total=   0.2s\n",
      "[CV] C=1000, gamma=0.01, kernel=rbf ..................................\n",
      "[CV] ...... C=1000, gamma=0.01, kernel=rbf, score=0.658, total=   0.2s\n",
      "[CV] C=1000, gamma=0.001, kernel=rbf .................................\n",
      "[CV] ..... C=1000, gamma=0.001, kernel=rbf, score=0.663, total=   0.1s\n",
      "[CV] C=1000, gamma=0.001, kernel=rbf .................................\n",
      "[CV] ..... C=1000, gamma=0.001, kernel=rbf, score=0.659, total=   0.1s\n",
      "[CV] C=1000, gamma=0.001, kernel=rbf .................................\n",
      "[CV] ..... C=1000, gamma=0.001, kernel=rbf, score=0.658, total=   0.1s\n",
      "[CV] C=1000, gamma=0.0001, kernel=rbf ................................\n",
      "[CV] .... C=1000, gamma=0.0001, kernel=rbf, score=0.645, total=   0.2s\n",
      "[CV] C=1000, gamma=0.0001, kernel=rbf ................................\n",
      "[CV] .... C=1000, gamma=0.0001, kernel=rbf, score=0.649, total=   0.2s\n",
      "[CV] C=1000, gamma=0.0001, kernel=rbf ................................\n",
      "[CV] .... C=1000, gamma=0.0001, kernel=rbf, score=0.664, total=   0.2s\n"
     ]
    },
    {
     "name": "stderr",
     "output_type": "stream",
     "text": [
      "[Parallel(n_jobs=1)]: Done  75 out of  75 | elapsed:   13.7s finished\n"
     ]
    },
    {
     "data": {
      "text/plain": [
       "GridSearchCV(cv='warn', error_score='raise-deprecating',\n",
       "             estimator=SVC(C=1.0, cache_size=200, class_weight=None, coef0=0.0,\n",
       "                           decision_function_shape='ovr', degree=3,\n",
       "                           gamma='auto_deprecated', kernel='rbf', max_iter=-1,\n",
       "                           probability=False, random_state=None, shrinking=True,\n",
       "                           tol=0.001, verbose=False),\n",
       "             iid='warn', n_jobs=None,\n",
       "             param_grid={'C': [0.1, 1, 10, 100, 1000],\n",
       "                         'gamma': [1, 0.1, 0.01, 0.001, 0.0001],\n",
       "                         'kernel': ['rbf']},\n",
       "             pre_dispatch='2*n_jobs', refit=True, return_train_score=False,\n",
       "             scoring=None, verbose=3)"
      ]
     },
     "execution_count": 207,
     "metadata": {},
     "output_type": "execute_result"
    }
   ],
   "source": [
    "#SVC hyperparameter tuning\n",
    "param_grid = {'C': [0.1, 1, 10, 100, 1000],  \n",
    "              'gamma': [1, 0.1, 0.01, 0.001, 0.0001], \n",
    "              'kernel': ['rbf']}  \n",
    "  \n",
    "grid = GridSearchCV(SVC(), param_grid, refit = True, verbose = 3) \n",
    "  \n",
    "# fitting the model for grid search \n",
    "grid.fit(X_train, y_train) "
   ]
  },
  {
   "cell_type": "code",
   "execution_count": 208,
   "metadata": {},
   "outputs": [
    {
     "name": "stdout",
     "output_type": "stream",
     "text": [
      "{'C': 1, 'gamma': 1, 'kernel': 'rbf'}\n"
     ]
    }
   ],
   "source": [
    "print(grid.best_params_)"
   ]
  },
  {
   "cell_type": "markdown",
   "metadata": {},
   "source": [
    "The tuned hyperparameters for SVC is pretty much its default values. Hence, lets explore Logistic Regression instead for hyperparameter tuning and evaluate if there is an imporvement in accuracy. "
   ]
  },
  {
   "cell_type": "code",
   "execution_count": 209,
   "metadata": {},
   "outputs": [],
   "source": [
    "# taking logistic regression as the final model (stable and higher accuracy)\n",
    "dual=[True,False]\n",
    "max_iter=[100,110,120,130,140]\n",
    "C = [1.0,1.5,2.0,2.5]\n",
    "param_grid = dict(dual=dual,max_iter=max_iter,C=C)"
   ]
  },
  {
   "cell_type": "code",
   "execution_count": 210,
   "metadata": {},
   "outputs": [
    {
     "name": "stdout",
     "output_type": "stream",
     "text": [
      "Best: 0.687207 using {'C': 1.0, 'dual': True, 'max_iter': 100}\n"
     ]
    },
    {
     "name": "stderr",
     "output_type": "stream",
     "text": [
      "C:\\ProgramData\\Anaconda3\\lib\\site-packages\\sklearn\\linear_model\\logistic.py:432: FutureWarning: Default solver will be changed to 'lbfgs' in 0.22. Specify a solver to silence this warning.\n",
      "  FutureWarning)\n"
     ]
    }
   ],
   "source": [
    "#Logsitic Regression hyperparameter tuning\n",
    "from sklearn.model_selection import GridSearchCV\n",
    "lr = LogisticRegression(penalty='l2')\n",
    "grid = GridSearchCV(estimator=lr, param_grid=param_grid, cv = 3, n_jobs=-1)\n",
    "#Model after tuning\n",
    "grid_result = grid.fit(X_train, y_train)\n",
    "# Summarize results\n",
    "print(\"Best: %f using %s\" % (grid_result.best_score_, grid_result.best_params_))"
   ]
  },
  {
   "cell_type": "code",
   "execution_count": 211,
   "metadata": {},
   "outputs": [
    {
     "name": "stdout",
     "output_type": "stream",
     "text": [
      "Logistic Regression accuracy after hyperparameter tuning: 73.90625%\n"
     ]
    }
   ],
   "source": [
    "# Logistic Regression accuracy after hypertuning\n",
    "prediction_logit_new = grid_result.predict(X_valid)\n",
    "accuracy_scores_logit_new = accuracy_score(y_valid, prediction_logit_new)*100\n",
    "print('Logistic Regression accuracy after hyperparameter tuning: {}%'.format(accuracy_scores_logit_new))"
   ]
  },
  {
   "cell_type": "markdown",
   "metadata": {},
   "source": [
    "In the datasets used in this exercise, the sentiments were binary i.e. either positive or negative. Often times, the sentiment obtained from the tweet is more of a fact than a clear binary choice between positive and negative. In such cases, the sentiment of the tweet assigned is entirely subjective upon the human assigning the sentiment class. For sentiment analysis cases with continuous variables assigned to each sentiment (happiness, sadness, anger, etc.), the mixture of sentiment (i.e. emotion) is much better relayed than a clear binary assignment of a human's emotion, such as in this case. Therefore, a discrete classification of sentiment comes with its own pitfalls. Therefore, doing a continuous variable sentiment analysis is preferred over discrete binary assignment. \n",
    "\n",
    "For predicting the class of negative_reasons, oftentimes the reason itself can be a combination of two different reasons. For example, some of the negative sentiments are a combination of \"Economy\" and \"Tell Lies\" where the tweet states lies or incorrect statements made by the political party with respect to the economy. Similar cases exist for other pair of negative_reasons as well. Therefore, the assignment of classes in this case as well might not be totally representative of the actual negative_reason if there are multiple reasons. One of the suggestions would be re-classifying these negative_reasons with the options of adding a secondary reason to it as well. This will, however, increase the number of target variable classes.  "
   ]
  },
  {
   "cell_type": "markdown",
   "metadata": {},
   "source": [
    "### Classification of Negative Reasons"
   ]
  },
  {
   "cell_type": "code",
   "execution_count": 243,
   "metadata": {},
   "outputs": [
    {
     "data": {
      "text/html": [
       "<div>\n",
       "<style scoped>\n",
       "    .dataframe tbody tr th:only-of-type {\n",
       "        vertical-align: middle;\n",
       "    }\n",
       "\n",
       "    .dataframe tbody tr th {\n",
       "        vertical-align: top;\n",
       "    }\n",
       "\n",
       "    .dataframe thead th {\n",
       "        text-align: right;\n",
       "    }\n",
       "</style>\n",
       "<table border=\"1\" class=\"dataframe\">\n",
       "  <thead>\n",
       "    <tr style=\"text-align: right;\">\n",
       "      <th></th>\n",
       "      <th>sentiment</th>\n",
       "      <th>negative_reason</th>\n",
       "      <th>text</th>\n",
       "    </tr>\n",
       "  </thead>\n",
       "  <tbody>\n",
       "    <tr>\n",
       "      <th>0</th>\n",
       "      <td>0</td>\n",
       "      <td>Women Reproductive right and Racism</td>\n",
       "      <td>b rosiebarton instead suggest agre canadian wo...</td>\n",
       "    </tr>\n",
       "    <tr>\n",
       "      <th>2</th>\n",
       "      <td>0</td>\n",
       "      <td>Economy</td>\n",
       "      <td>b brantford go cost 94 billion next 4 year ask...</td>\n",
       "    </tr>\n",
       "    <tr>\n",
       "      <th>4</th>\n",
       "      <td>0</td>\n",
       "      <td>Economy</td>\n",
       "      <td>b canada taxpay sick amp tire hard earn donat ...</td>\n",
       "    </tr>\n",
       "    <tr>\n",
       "      <th>5</th>\n",
       "      <td>0</td>\n",
       "      <td>Others</td>\n",
       "      <td>b canadavotes2019 elxn43 cdnpoli fact blastfro...</td>\n",
       "    </tr>\n",
       "    <tr>\n",
       "      <th>8</th>\n",
       "      <td>0</td>\n",
       "      <td>Others</td>\n",
       "      <td>b chooseforward cdnpoli elxn43 ncanada make am...</td>\n",
       "    </tr>\n",
       "  </tbody>\n",
       "</table>\n",
       "</div>"
      ],
      "text/plain": [
       "   sentiment                      negative_reason  \\\n",
       "0          0  Women Reproductive right and Racism   \n",
       "2          0                              Economy   \n",
       "4          0                              Economy   \n",
       "5          0                               Others   \n",
       "8          0                               Others   \n",
       "\n",
       "                                                text  \n",
       "0  b rosiebarton instead suggest agre canadian wo...  \n",
       "2  b brantford go cost 94 billion next 4 year ask...  \n",
       "4  b canada taxpay sick amp tire hard earn donat ...  \n",
       "5  b canadavotes2019 elxn43 cdnpoli fact blastfro...  \n",
       "8  b chooseforward cdnpoli elxn43 ncanada make am...  "
      ]
     },
     "execution_count": 243,
     "metadata": {},
     "output_type": "execute_result"
    }
   ],
   "source": [
    "candf3 = candf2.dropna(axis=0, subset=['negative_reason'])\n",
    "candf3.head()"
   ]
  },
  {
   "cell_type": "code",
   "execution_count": 244,
   "metadata": {},
   "outputs": [
    {
     "name": "stderr",
     "output_type": "stream",
     "text": [
      "[nltk_data] Downloading package stopwords to\n",
      "[nltk_data]     C:\\Users\\rahma\\AppData\\Roaming\\nltk_data...\n",
      "[nltk_data]   Package stopwords is already up-to-date!\n"
     ]
    }
   ],
   "source": [
    "# Data cleaning and pre-process dataset\n",
    "nltk.download('stopwords')\n",
    "\n",
    "# TEXT CLENAING\n",
    "TEXT_CLEANING_RE = \"@\\S+|https?:\\S+|http?:\\S|[^A-Za-z0-9]+\" \n",
    "stop_words = stopwords.words(\"english\")\n",
    "stemmer = SnowballStemmer(\"english\")"
   ]
  },
  {
   "cell_type": "code",
   "execution_count": 245,
   "metadata": {},
   "outputs": [
    {
     "name": "stderr",
     "output_type": "stream",
     "text": [
      "C:\\ProgramData\\Anaconda3\\lib\\site-packages\\pandas\\core\\generic.py:5096: SettingWithCopyWarning: \n",
      "A value is trying to be set on a copy of a slice from a DataFrame.\n",
      "Try using .loc[row_indexer,col_indexer] = value instead\n",
      "\n",
      "See the caveats in the documentation: http://pandas.pydata.org/pandas-docs/stable/indexing.html#indexing-view-versus-copy\n",
      "  self[name] = value\n"
     ]
    },
    {
     "data": {
      "text/html": [
       "<div>\n",
       "<style scoped>\n",
       "    .dataframe tbody tr th:only-of-type {\n",
       "        vertical-align: middle;\n",
       "    }\n",
       "\n",
       "    .dataframe tbody tr th {\n",
       "        vertical-align: top;\n",
       "    }\n",
       "\n",
       "    .dataframe thead th {\n",
       "        text-align: right;\n",
       "    }\n",
       "</style>\n",
       "<table border=\"1\" class=\"dataframe\">\n",
       "  <thead>\n",
       "    <tr style=\"text-align: right;\">\n",
       "      <th></th>\n",
       "      <th>sentiment</th>\n",
       "      <th>negative_reason</th>\n",
       "      <th>text</th>\n",
       "    </tr>\n",
       "  </thead>\n",
       "  <tbody>\n",
       "    <tr>\n",
       "      <th>0</th>\n",
       "      <td>0</td>\n",
       "      <td>Women Reproductive right and Racism</td>\n",
       "      <td>b rosiebarton instead suggest agre canadian wo...</td>\n",
       "    </tr>\n",
       "    <tr>\n",
       "      <th>2</th>\n",
       "      <td>0</td>\n",
       "      <td>Economy</td>\n",
       "      <td>b brantford go cost 94 billion next 4 year ask...</td>\n",
       "    </tr>\n",
       "    <tr>\n",
       "      <th>4</th>\n",
       "      <td>0</td>\n",
       "      <td>Economy</td>\n",
       "      <td>b canada taxpay sick amp tire hard earn donat ...</td>\n",
       "    </tr>\n",
       "    <tr>\n",
       "      <th>5</th>\n",
       "      <td>0</td>\n",
       "      <td>Others</td>\n",
       "      <td>b canadavotes2019 elxn43 cdnpoli fact blastfro...</td>\n",
       "    </tr>\n",
       "    <tr>\n",
       "      <th>8</th>\n",
       "      <td>0</td>\n",
       "      <td>Others</td>\n",
       "      <td>b chooseforward cdnpoli elxn43 ncanada make am...</td>\n",
       "    </tr>\n",
       "    <tr>\n",
       "      <th>9</th>\n",
       "      <td>0</td>\n",
       "      <td>Scandal</td>\n",
       "      <td>b cpckinsellag nlet see receipt pay warren kin...</td>\n",
       "    </tr>\n",
       "    <tr>\n",
       "      <th>14</th>\n",
       "      <td>0</td>\n",
       "      <td>Others</td>\n",
       "      <td>b kinsella run deep w cpc lyingandi craze anti...</td>\n",
       "    </tr>\n",
       "    <tr>\n",
       "      <th>15</th>\n",
       "      <td>0</td>\n",
       "      <td>Tell lies</td>\n",
       "      <td>b lyingandi histori answer embarrass question ...</td>\n",
       "    </tr>\n",
       "    <tr>\n",
       "      <th>19</th>\n",
       "      <td>0</td>\n",
       "      <td>Scandal</td>\n",
       "      <td>b urgent pleas watch video david haskel peopl ...</td>\n",
       "    </tr>\n",
       "    <tr>\n",
       "      <th>20</th>\n",
       "      <td>0</td>\n",
       "      <td>Others</td>\n",
       "      <td>b polici comment illeg immor nefari activ cpc ...</td>\n",
       "    </tr>\n",
       "    <tr>\n",
       "      <th>21</th>\n",
       "      <td>0</td>\n",
       "      <td>Others</td>\n",
       "      <td>b andrewsch fit hold public offic let alon pm ...</td>\n",
       "    </tr>\n",
       "    <tr>\n",
       "      <th>24</th>\n",
       "      <td>0</td>\n",
       "      <td>Others</td>\n",
       "      <td>b alan poirier alberta saskatchewan ontario pr...</td>\n",
       "    </tr>\n",
       "    <tr>\n",
       "      <th>26</th>\n",
       "      <td>0</td>\n",
       "      <td>Scandal</td>\n",
       "      <td>b alternatespunki electionscan e electionson c...</td>\n",
       "    </tr>\n",
       "    <tr>\n",
       "      <th>27</th>\n",
       "      <td>0</td>\n",
       "      <td>Others</td>\n",
       "      <td>b althiaraj justintrudeau justintrudeau use 5 ...</td>\n",
       "    </tr>\n",
       "    <tr>\n",
       "      <th>29</th>\n",
       "      <td>0</td>\n",
       "      <td>Tell lies</td>\n",
       "      <td>b althiaraj ask question hypothet n cdnpoli el...</td>\n",
       "    </tr>\n",
       "    <tr>\n",
       "      <th>30</th>\n",
       "      <td>0</td>\n",
       "      <td>Scandal</td>\n",
       "      <td>b althiaraj surpris n justintrudeau answer q y...</td>\n",
       "    </tr>\n",
       "    <tr>\n",
       "      <th>33</th>\n",
       "      <td>0</td>\n",
       "      <td>Scandal</td>\n",
       "      <td>b andrewsch warren jwr yell us new stori invol...</td>\n",
       "    </tr>\n",
       "    <tr>\n",
       "      <th>34</th>\n",
       "      <td>0</td>\n",
       "      <td>Privilege</td>\n",
       "      <td>b andrewsch life also gotten expens republican...</td>\n",
       "    </tr>\n",
       "    <tr>\n",
       "      <th>35</th>\n",
       "      <td>0</td>\n",
       "      <td>Others</td>\n",
       "      <td>b anthonyromo17 phil rack peterdiane01 andrews...</td>\n",
       "    </tr>\n",
       "    <tr>\n",
       "      <th>36</th>\n",
       "      <td>0</td>\n",
       "      <td>Others</td>\n",
       "      <td>b artonfurnitur fender bender make bc suprem c...</td>\n",
       "    </tr>\n",
       "    <tr>\n",
       "      <th>37</th>\n",
       "      <td>0</td>\n",
       "      <td>Scandal</td>\n",
       "      <td>b asestritsyn yvan baker justintrudeau liber p...</td>\n",
       "    </tr>\n",
       "    <tr>\n",
       "      <th>39</th>\n",
       "      <td>0</td>\n",
       "      <td>Scandal</td>\n",
       "      <td>b baldjam cpc hq investig elxn43 donat petrole...</td>\n",
       "    </tr>\n",
       "    <tr>\n",
       "      <th>40</th>\n",
       "      <td>0</td>\n",
       "      <td>Economy</td>\n",
       "      <td>b barkoh crippledu kennuck start basic legal p...</td>\n",
       "    </tr>\n",
       "    <tr>\n",
       "      <th>41</th>\n",
       "      <td>0</td>\n",
       "      <td>Tell lies</td>\n",
       "      <td>b bcrealiti ontarioisproud serious west coast ...</td>\n",
       "    </tr>\n",
       "    <tr>\n",
       "      <th>42</th>\n",
       "      <td>0</td>\n",
       "      <td>Others</td>\n",
       "      <td>b ben johnson even n n cdnpoli yyj qcpoli onpo...</td>\n",
       "    </tr>\n",
       "    <tr>\n",
       "      <th>46</th>\n",
       "      <td>0</td>\n",
       "      <td>Tell lies</td>\n",
       "      <td>b c resist gill godwin name one elect sinc har...</td>\n",
       "    </tr>\n",
       "    <tr>\n",
       "      <th>47</th>\n",
       "      <td>0</td>\n",
       "      <td>Others</td>\n",
       "      <td>b camrclark natnewswatch one leader give answe...</td>\n",
       "    </tr>\n",
       "    <tr>\n",
       "      <th>48</th>\n",
       "      <td>0</td>\n",
       "      <td>Scandal</td>\n",
       "      <td>b canadiangreen soniafurstenau campaign hire w...</td>\n",
       "    </tr>\n",
       "    <tr>\n",
       "      <th>49</th>\n",
       "      <td>0</td>\n",
       "      <td>Tell lies</td>\n",
       "      <td>b candicemalcolm heshmatalavi well known rafid...</td>\n",
       "    </tr>\n",
       "    <tr>\n",
       "      <th>50</th>\n",
       "      <td>0</td>\n",
       "      <td>Climate Problem</td>\n",
       "      <td>b cathmckenna give us greenhous ga reduct stra...</td>\n",
       "    </tr>\n",
       "    <tr>\n",
       "      <th>...</th>\n",
       "      <td>...</td>\n",
       "      <td>...</td>\n",
       "      <td>...</td>\n",
       "    </tr>\n",
       "    <tr>\n",
       "      <th>2082</th>\n",
       "      <td>0</td>\n",
       "      <td>Tell lies</td>\n",
       "      <td>b would mckenna think chr xc3 xa9tien could sa...</td>\n",
       "    </tr>\n",
       "    <tr>\n",
       "      <th>2083</th>\n",
       "      <td>0</td>\n",
       "      <td>Others</td>\n",
       "      <td>b would elect night star war trailer elxn43</td>\n",
       "    </tr>\n",
       "    <tr>\n",
       "      <th>2084</th>\n",
       "      <td>0</td>\n",
       "      <td>Others</td>\n",
       "      <td>b rosi barton cri air monday night n n elxn43 ...</td>\n",
       "    </tr>\n",
       "    <tr>\n",
       "      <th>2088</th>\n",
       "      <td>0</td>\n",
       "      <td>Others</td>\n",
       "      <td>b conserv see get star nand get littl elxn43 c...</td>\n",
       "    </tr>\n",
       "    <tr>\n",
       "      <th>2089</th>\n",
       "      <td>0</td>\n",
       "      <td>Others</td>\n",
       "      <td>b except peopl deep throe polit derang syndrom...</td>\n",
       "    </tr>\n",
       "    <tr>\n",
       "      <th>2091</th>\n",
       "      <td>0</td>\n",
       "      <td>Scandal</td>\n",
       "      <td>b woke news appar total ok hire firm slander d...</td>\n",
       "    </tr>\n",
       "    <tr>\n",
       "      <th>2092</th>\n",
       "      <td>0</td>\n",
       "      <td>Tell lies</td>\n",
       "      <td>b wonder scheer campaign xe2 x80 x99t take que...</td>\n",
       "    </tr>\n",
       "    <tr>\n",
       "      <th>2096</th>\n",
       "      <td>0</td>\n",
       "      <td>Economy</td>\n",
       "      <td>b would mr scheer ask thought harper decis cut...</td>\n",
       "    </tr>\n",
       "    <tr>\n",
       "      <th>2097</th>\n",
       "      <td>0</td>\n",
       "      <td>Scandal</td>\n",
       "      <td>b xe2 x80 x99t better polit parti xe2 x80 x9cd...</td>\n",
       "    </tr>\n",
       "    <tr>\n",
       "      <th>2099</th>\n",
       "      <td>0</td>\n",
       "      <td>Scandal</td>\n",
       "      <td>b wow sheila sound like defam n nimagin think ...</td>\n",
       "    </tr>\n",
       "    <tr>\n",
       "      <th>2100</th>\n",
       "      <td>0</td>\n",
       "      <td>Others</td>\n",
       "      <td>b wow elizabeth may like stupid tweet cdnpoli ...</td>\n",
       "    </tr>\n",
       "    <tr>\n",
       "      <th>2102</th>\n",
       "      <td>0</td>\n",
       "      <td>Scandal</td>\n",
       "      <td>b wow horgan sight wonder long would tri bask ...</td>\n",
       "    </tr>\n",
       "    <tr>\n",
       "      <th>2103</th>\n",
       "      <td>0</td>\n",
       "      <td>Tell lies</td>\n",
       "      <td>b wow lot bigger lie insur broker folk elxn201...</td>\n",
       "    </tr>\n",
       "    <tr>\n",
       "      <th>2105</th>\n",
       "      <td>0</td>\n",
       "      <td>Tell lies</td>\n",
       "      <td>b wowser nlook like cbc globe reli liber oper ...</td>\n",
       "    </tr>\n",
       "    <tr>\n",
       "      <th>2106</th>\n",
       "      <td>0</td>\n",
       "      <td>Economy</td>\n",
       "      <td>b wrong n nyou xe2 x80 x99re one use alberta p...</td>\n",
       "    </tr>\n",
       "    <tr>\n",
       "      <th>2108</th>\n",
       "      <td>0</td>\n",
       "      <td>Tell lies</td>\n",
       "      <td>b yay cbckati nice see pushback lie attempt an...</td>\n",
       "    </tr>\n",
       "    <tr>\n",
       "      <th>2109</th>\n",
       "      <td>0</td>\n",
       "      <td>Others</td>\n",
       "      <td>b ye want afford futur justintrudeau canada be...</td>\n",
       "    </tr>\n",
       "    <tr>\n",
       "      <th>2112</th>\n",
       "      <td>0</td>\n",
       "      <td>Tell lies</td>\n",
       "      <td>b ye andrewsch stori elxn43 cdnpoli</td>\n",
       "    </tr>\n",
       "    <tr>\n",
       "      <th>2114</th>\n",
       "      <td>0</td>\n",
       "      <td>Others</td>\n",
       "      <td>b ye doubt busi schedul last minut liber troll...</td>\n",
       "    </tr>\n",
       "    <tr>\n",
       "      <th>2115</th>\n",
       "      <td>0</td>\n",
       "      <td>Economy</td>\n",
       "      <td>b ye liber xe2 x80 x99t get major ndp ask pipe...</td>\n",
       "    </tr>\n",
       "    <tr>\n",
       "      <th>2118</th>\n",
       "      <td>0</td>\n",
       "      <td>Women Reproductive right and Racism</td>\n",
       "      <td>b yet andrew scheer maintain expect us believ ...</td>\n",
       "    </tr>\n",
       "    <tr>\n",
       "      <th>2119</th>\n",
       "      <td>0</td>\n",
       "      <td>Women Reproductive right and Racism</td>\n",
       "      <td>b yet anoth exampl constant danger conserv pos...</td>\n",
       "    </tr>\n",
       "    <tr>\n",
       "      <th>2121</th>\n",
       "      <td>0</td>\n",
       "      <td>Others</td>\n",
       "      <td>b sort betray memori fought freedom cdnpoli el...</td>\n",
       "    </tr>\n",
       "    <tr>\n",
       "      <th>2122</th>\n",
       "      <td>0</td>\n",
       "      <td>Tell lies</td>\n",
       "      <td>b alway tell person good campaign stupid state...</td>\n",
       "    </tr>\n",
       "    <tr>\n",
       "      <th>2124</th>\n",
       "      <td>0</td>\n",
       "      <td>Tell lies</td>\n",
       "      <td>b vote dishonest slander politician alway choo...</td>\n",
       "    </tr>\n",
       "    <tr>\n",
       "      <th>2125</th>\n",
       "      <td>0</td>\n",
       "      <td>Others</td>\n",
       "      <td>b xe2 x80 x99t supervillain elect fail job n n...</td>\n",
       "    </tr>\n",
       "    <tr>\n",
       "      <th>2126</th>\n",
       "      <td>0</td>\n",
       "      <td>Climate Problem</td>\n",
       "      <td>b care limit climatechang wonder parti vote el...</td>\n",
       "    </tr>\n",
       "    <tr>\n",
       "      <th>2128</th>\n",
       "      <td>0</td>\n",
       "      <td>Scandal</td>\n",
       "      <td>b know good enough job smear campaign right an...</td>\n",
       "    </tr>\n",
       "    <tr>\n",
       "      <th>2129</th>\n",
       "      <td>0</td>\n",
       "      <td>Scandal</td>\n",
       "      <td>b miss comment deflect issu answer best respon...</td>\n",
       "    </tr>\n",
       "    <tr>\n",
       "      <th>2131</th>\n",
       "      <td>0</td>\n",
       "      <td>Women Reproductive right and Racism</td>\n",
       "      <td>b yup go reopen abort debat xf0 x9f x98 x8f n ...</td>\n",
       "    </tr>\n",
       "  </tbody>\n",
       "</table>\n",
       "<p>1007 rows × 3 columns</p>\n",
       "</div>"
      ],
      "text/plain": [
       "      sentiment                      negative_reason  \\\n",
       "0             0  Women Reproductive right and Racism   \n",
       "2             0                              Economy   \n",
       "4             0                              Economy   \n",
       "5             0                               Others   \n",
       "8             0                               Others   \n",
       "9             0                              Scandal   \n",
       "14            0                               Others   \n",
       "15            0                            Tell lies   \n",
       "19            0                              Scandal   \n",
       "20            0                               Others   \n",
       "21            0                               Others   \n",
       "24            0                               Others   \n",
       "26            0                              Scandal   \n",
       "27            0                               Others   \n",
       "29            0                            Tell lies   \n",
       "30            0                              Scandal   \n",
       "33            0                              Scandal   \n",
       "34            0                            Privilege   \n",
       "35            0                               Others   \n",
       "36            0                               Others   \n",
       "37            0                              Scandal   \n",
       "39            0                              Scandal   \n",
       "40            0                              Economy   \n",
       "41            0                            Tell lies   \n",
       "42            0                               Others   \n",
       "46            0                            Tell lies   \n",
       "47            0                               Others   \n",
       "48            0                              Scandal   \n",
       "49            0                            Tell lies   \n",
       "50            0                      Climate Problem   \n",
       "...         ...                                  ...   \n",
       "2082          0                            Tell lies   \n",
       "2083          0                               Others   \n",
       "2084          0                               Others   \n",
       "2088          0                               Others   \n",
       "2089          0                               Others   \n",
       "2091          0                              Scandal   \n",
       "2092          0                            Tell lies   \n",
       "2096          0                              Economy   \n",
       "2097          0                              Scandal   \n",
       "2099          0                              Scandal   \n",
       "2100          0                               Others   \n",
       "2102          0                              Scandal   \n",
       "2103          0                            Tell lies   \n",
       "2105          0                            Tell lies   \n",
       "2106          0                              Economy   \n",
       "2108          0                            Tell lies   \n",
       "2109          0                               Others   \n",
       "2112          0                            Tell lies   \n",
       "2114          0                               Others   \n",
       "2115          0                              Economy   \n",
       "2118          0  Women Reproductive right and Racism   \n",
       "2119          0  Women Reproductive right and Racism   \n",
       "2121          0                               Others   \n",
       "2122          0                            Tell lies   \n",
       "2124          0                            Tell lies   \n",
       "2125          0                               Others   \n",
       "2126          0                      Climate Problem   \n",
       "2128          0                              Scandal   \n",
       "2129          0                              Scandal   \n",
       "2131          0  Women Reproductive right and Racism   \n",
       "\n",
       "                                                   text  \n",
       "0     b rosiebarton instead suggest agre canadian wo...  \n",
       "2     b brantford go cost 94 billion next 4 year ask...  \n",
       "4     b canada taxpay sick amp tire hard earn donat ...  \n",
       "5     b canadavotes2019 elxn43 cdnpoli fact blastfro...  \n",
       "8     b chooseforward cdnpoli elxn43 ncanada make am...  \n",
       "9     b cpckinsellag nlet see receipt pay warren kin...  \n",
       "14    b kinsella run deep w cpc lyingandi craze anti...  \n",
       "15    b lyingandi histori answer embarrass question ...  \n",
       "19    b urgent pleas watch video david haskel peopl ...  \n",
       "20    b polici comment illeg immor nefari activ cpc ...  \n",
       "21    b andrewsch fit hold public offic let alon pm ...  \n",
       "24    b alan poirier alberta saskatchewan ontario pr...  \n",
       "26    b alternatespunki electionscan e electionson c...  \n",
       "27    b althiaraj justintrudeau justintrudeau use 5 ...  \n",
       "29    b althiaraj ask question hypothet n cdnpoli el...  \n",
       "30    b althiaraj surpris n justintrudeau answer q y...  \n",
       "33    b andrewsch warren jwr yell us new stori invol...  \n",
       "34    b andrewsch life also gotten expens republican...  \n",
       "35    b anthonyromo17 phil rack peterdiane01 andrews...  \n",
       "36    b artonfurnitur fender bender make bc suprem c...  \n",
       "37    b asestritsyn yvan baker justintrudeau liber p...  \n",
       "39    b baldjam cpc hq investig elxn43 donat petrole...  \n",
       "40    b barkoh crippledu kennuck start basic legal p...  \n",
       "41    b bcrealiti ontarioisproud serious west coast ...  \n",
       "42    b ben johnson even n n cdnpoli yyj qcpoli onpo...  \n",
       "46    b c resist gill godwin name one elect sinc har...  \n",
       "47    b camrclark natnewswatch one leader give answe...  \n",
       "48    b canadiangreen soniafurstenau campaign hire w...  \n",
       "49    b candicemalcolm heshmatalavi well known rafid...  \n",
       "50    b cathmckenna give us greenhous ga reduct stra...  \n",
       "...                                                 ...  \n",
       "2082  b would mckenna think chr xc3 xa9tien could sa...  \n",
       "2083        b would elect night star war trailer elxn43  \n",
       "2084  b rosi barton cri air monday night n n elxn43 ...  \n",
       "2088  b conserv see get star nand get littl elxn43 c...  \n",
       "2089  b except peopl deep throe polit derang syndrom...  \n",
       "2091  b woke news appar total ok hire firm slander d...  \n",
       "2092  b wonder scheer campaign xe2 x80 x99t take que...  \n",
       "2096  b would mr scheer ask thought harper decis cut...  \n",
       "2097  b xe2 x80 x99t better polit parti xe2 x80 x9cd...  \n",
       "2099  b wow sheila sound like defam n nimagin think ...  \n",
       "2100  b wow elizabeth may like stupid tweet cdnpoli ...  \n",
       "2102  b wow horgan sight wonder long would tri bask ...  \n",
       "2103  b wow lot bigger lie insur broker folk elxn201...  \n",
       "2105  b wowser nlook like cbc globe reli liber oper ...  \n",
       "2106  b wrong n nyou xe2 x80 x99re one use alberta p...  \n",
       "2108  b yay cbckati nice see pushback lie attempt an...  \n",
       "2109  b ye want afford futur justintrudeau canada be...  \n",
       "2112                b ye andrewsch stori elxn43 cdnpoli  \n",
       "2114  b ye doubt busi schedul last minut liber troll...  \n",
       "2115  b ye liber xe2 x80 x99t get major ndp ask pipe...  \n",
       "2118  b yet andrew scheer maintain expect us believ ...  \n",
       "2119  b yet anoth exampl constant danger conserv pos...  \n",
       "2121  b sort betray memori fought freedom cdnpoli el...  \n",
       "2122  b alway tell person good campaign stupid state...  \n",
       "2124  b vote dishonest slander politician alway choo...  \n",
       "2125  b xe2 x80 x99t supervillain elect fail job n n...  \n",
       "2126  b care limit climatechang wonder parti vote el...  \n",
       "2128  b know good enough job smear campaign right an...  \n",
       "2129  b miss comment deflect issu answer best respon...  \n",
       "2131  b yup go reopen abort debat xf0 x9f x98 x8f n ...  \n",
       "\n",
       "[1007 rows x 3 columns]"
      ]
     },
     "execution_count": 245,
     "metadata": {},
     "output_type": "execute_result"
    }
   ],
   "source": [
    "def preprocess(text, stem=False):\n",
    "    # Remove link,user and special characters\n",
    "    text = re.sub(TEXT_CLEANING_RE, ' ', str(text).lower()).strip()\n",
    "    tokens = []\n",
    "    for token in text.split():\n",
    "        if token not in stop_words:\n",
    "            if stem:\n",
    "                tokens.append(stemmer.stem(token))\n",
    "            else:\n",
    "                tokens.append(token)\n",
    "    return \" \".join(tokens)\n",
    "\n",
    "candf3.text = candf3.text.apply(lambda x: preprocess(x))\n",
    "candf3"
   ]
  },
  {
   "cell_type": "code",
   "execution_count": 246,
   "metadata": {},
   "outputs": [
    {
     "name": "stderr",
     "output_type": "stream",
     "text": [
      "C:\\ProgramData\\Anaconda3\\lib\\site-packages\\ipykernel_launcher.py:2: SettingWithCopyWarning: \n",
      "A value is trying to be set on a copy of a slice from a DataFrame.\n",
      "Try using .loc[row_indexer,col_indexer] = value instead\n",
      "\n",
      "See the caveats in the documentation: http://pandas.pydata.org/pandas-docs/stable/indexing.html#indexing-view-versus-copy\n",
      "  \n"
     ]
    }
   ],
   "source": [
    "# Combining healthcare and marijuana and healthcare into one\n",
    "candf3['negative_reason'] = candf3['negative_reason'].str.replace('Healthcare and Marijuana','Healthcare')"
   ]
  },
  {
   "cell_type": "code",
   "execution_count": 247,
   "metadata": {},
   "outputs": [
    {
     "name": "stderr",
     "output_type": "stream",
     "text": [
      "C:\\ProgramData\\Anaconda3\\lib\\site-packages\\pandas\\core\\frame.py:3940: SettingWithCopyWarning: \n",
      "A value is trying to be set on a copy of a slice from a DataFrame\n",
      "\n",
      "See the caveats in the documentation: http://pandas.pydata.org/pandas-docs/stable/indexing.html#indexing-view-versus-copy\n",
      "  errors=errors)\n"
     ]
    }
   ],
   "source": [
    "candf3.drop(candf3.index[candf3['negative_reason'] == 'Others'], inplace = True)"
   ]
  },
  {
   "cell_type": "code",
   "execution_count": 248,
   "metadata": {},
   "outputs": [
    {
     "data": {
      "text/html": [
       "<div>\n",
       "<style scoped>\n",
       "    .dataframe tbody tr th:only-of-type {\n",
       "        vertical-align: middle;\n",
       "    }\n",
       "\n",
       "    .dataframe tbody tr th {\n",
       "        vertical-align: top;\n",
       "    }\n",
       "\n",
       "    .dataframe thead th {\n",
       "        text-align: right;\n",
       "    }\n",
       "</style>\n",
       "<table border=\"1\" class=\"dataframe\">\n",
       "  <thead>\n",
       "    <tr style=\"text-align: right;\">\n",
       "      <th></th>\n",
       "      <th>sentiment</th>\n",
       "      <th>negative_reason</th>\n",
       "      <th>text</th>\n",
       "    </tr>\n",
       "  </thead>\n",
       "  <tbody>\n",
       "    <tr>\n",
       "      <th>0</th>\n",
       "      <td>0</td>\n",
       "      <td>Women Reproductive right and Racism</td>\n",
       "      <td>b rosiebarton instead suggest agre canadian wo...</td>\n",
       "    </tr>\n",
       "    <tr>\n",
       "      <th>2</th>\n",
       "      <td>0</td>\n",
       "      <td>Economy</td>\n",
       "      <td>b brantford go cost 94 billion next 4 year ask...</td>\n",
       "    </tr>\n",
       "    <tr>\n",
       "      <th>4</th>\n",
       "      <td>0</td>\n",
       "      <td>Economy</td>\n",
       "      <td>b canada taxpay sick amp tire hard earn donat ...</td>\n",
       "    </tr>\n",
       "    <tr>\n",
       "      <th>9</th>\n",
       "      <td>0</td>\n",
       "      <td>Scandal</td>\n",
       "      <td>b cpckinsellag nlet see receipt pay warren kin...</td>\n",
       "    </tr>\n",
       "    <tr>\n",
       "      <th>15</th>\n",
       "      <td>0</td>\n",
       "      <td>Tell lies</td>\n",
       "      <td>b lyingandi histori answer embarrass question ...</td>\n",
       "    </tr>\n",
       "    <tr>\n",
       "      <th>19</th>\n",
       "      <td>0</td>\n",
       "      <td>Scandal</td>\n",
       "      <td>b urgent pleas watch video david haskel peopl ...</td>\n",
       "    </tr>\n",
       "    <tr>\n",
       "      <th>26</th>\n",
       "      <td>0</td>\n",
       "      <td>Scandal</td>\n",
       "      <td>b alternatespunki electionscan e electionson c...</td>\n",
       "    </tr>\n",
       "    <tr>\n",
       "      <th>29</th>\n",
       "      <td>0</td>\n",
       "      <td>Tell lies</td>\n",
       "      <td>b althiaraj ask question hypothet n cdnpoli el...</td>\n",
       "    </tr>\n",
       "    <tr>\n",
       "      <th>30</th>\n",
       "      <td>0</td>\n",
       "      <td>Scandal</td>\n",
       "      <td>b althiaraj surpris n justintrudeau answer q y...</td>\n",
       "    </tr>\n",
       "    <tr>\n",
       "      <th>33</th>\n",
       "      <td>0</td>\n",
       "      <td>Scandal</td>\n",
       "      <td>b andrewsch warren jwr yell us new stori invol...</td>\n",
       "    </tr>\n",
       "    <tr>\n",
       "      <th>34</th>\n",
       "      <td>0</td>\n",
       "      <td>Privilege</td>\n",
       "      <td>b andrewsch life also gotten expens republican...</td>\n",
       "    </tr>\n",
       "    <tr>\n",
       "      <th>37</th>\n",
       "      <td>0</td>\n",
       "      <td>Scandal</td>\n",
       "      <td>b asestritsyn yvan baker justintrudeau liber p...</td>\n",
       "    </tr>\n",
       "    <tr>\n",
       "      <th>39</th>\n",
       "      <td>0</td>\n",
       "      <td>Scandal</td>\n",
       "      <td>b baldjam cpc hq investig elxn43 donat petrole...</td>\n",
       "    </tr>\n",
       "    <tr>\n",
       "      <th>40</th>\n",
       "      <td>0</td>\n",
       "      <td>Economy</td>\n",
       "      <td>b barkoh crippledu kennuck start basic legal p...</td>\n",
       "    </tr>\n",
       "    <tr>\n",
       "      <th>41</th>\n",
       "      <td>0</td>\n",
       "      <td>Tell lies</td>\n",
       "      <td>b bcrealiti ontarioisproud serious west coast ...</td>\n",
       "    </tr>\n",
       "    <tr>\n",
       "      <th>46</th>\n",
       "      <td>0</td>\n",
       "      <td>Tell lies</td>\n",
       "      <td>b c resist gill godwin name one elect sinc har...</td>\n",
       "    </tr>\n",
       "    <tr>\n",
       "      <th>48</th>\n",
       "      <td>0</td>\n",
       "      <td>Scandal</td>\n",
       "      <td>b canadiangreen soniafurstenau campaign hire w...</td>\n",
       "    </tr>\n",
       "    <tr>\n",
       "      <th>49</th>\n",
       "      <td>0</td>\n",
       "      <td>Tell lies</td>\n",
       "      <td>b candicemalcolm heshmatalavi well known rafid...</td>\n",
       "    </tr>\n",
       "    <tr>\n",
       "      <th>50</th>\n",
       "      <td>0</td>\n",
       "      <td>Climate Problem</td>\n",
       "      <td>b cathmckenna give us greenhous ga reduct stra...</td>\n",
       "    </tr>\n",
       "    <tr>\n",
       "      <th>52</th>\n",
       "      <td>0</td>\n",
       "      <td>Scandal</td>\n",
       "      <td>b cbcalert andi transpar elect expect transpar...</td>\n",
       "    </tr>\n",
       "    <tr>\n",
       "      <th>53</th>\n",
       "      <td>0</td>\n",
       "      <td>Healthcare</td>\n",
       "      <td>b cbconthecoast coalit gov might get us evid b...</td>\n",
       "    </tr>\n",
       "    <tr>\n",
       "      <th>54</th>\n",
       "      <td>0</td>\n",
       "      <td>Tell lies</td>\n",
       "      <td>b charliekuss roy woodhal nunnya16 yukon stron...</td>\n",
       "    </tr>\n",
       "    <tr>\n",
       "      <th>55</th>\n",
       "      <td>0</td>\n",
       "      <td>Tell lies</td>\n",
       "      <td>b christinainyeg grumpi granni andrewsch began...</td>\n",
       "    </tr>\n",
       "    <tr>\n",
       "      <th>57</th>\n",
       "      <td>0</td>\n",
       "      <td>Scandal</td>\n",
       "      <td>b costellodaniel1 paola dec1231 zitaastrava ev...</td>\n",
       "    </tr>\n",
       "    <tr>\n",
       "      <th>59</th>\n",
       "      <td>0</td>\n",
       "      <td>Scandal</td>\n",
       "      <td>b cpc hq candid appar troubl swallow andrewsch...</td>\n",
       "    </tr>\n",
       "    <tr>\n",
       "      <th>60</th>\n",
       "      <td>0</td>\n",
       "      <td>Scandal</td>\n",
       "      <td>b ctvnew conserv parti spend campaign distanc ...</td>\n",
       "    </tr>\n",
       "    <tr>\n",
       "      <th>63</th>\n",
       "      <td>0</td>\n",
       "      <td>Scandal</td>\n",
       "      <td>b deceitindrug abblib long daze joannecang gla...</td>\n",
       "    </tr>\n",
       "    <tr>\n",
       "      <th>65</th>\n",
       "      <td>0</td>\n",
       "      <td>Tell lies</td>\n",
       "      <td>b dpalmier sheila copp puglaa janephilpott ref...</td>\n",
       "    </tr>\n",
       "    <tr>\n",
       "      <th>69</th>\n",
       "      <td>0</td>\n",
       "      <td>Tell lies</td>\n",
       "      <td>b electionscan e heyday big money go defend po...</td>\n",
       "    </tr>\n",
       "    <tr>\n",
       "      <th>74</th>\n",
       "      <td>0</td>\n",
       "      <td>Tell lies</td>\n",
       "      <td>b gill godwin andrewsch real name lie constitu...</td>\n",
       "    </tr>\n",
       "    <tr>\n",
       "      <th>...</th>\n",
       "      <td>...</td>\n",
       "      <td>...</td>\n",
       "      <td>...</td>\n",
       "    </tr>\n",
       "    <tr>\n",
       "      <th>2057</th>\n",
       "      <td>0</td>\n",
       "      <td>Tell lies</td>\n",
       "      <td>b even support question honesti integr elxn43 ...</td>\n",
       "    </tr>\n",
       "    <tr>\n",
       "      <th>2062</th>\n",
       "      <td>0</td>\n",
       "      <td>Scandal</td>\n",
       "      <td>b jt show sock know feel good bad sign liber t...</td>\n",
       "    </tr>\n",
       "    <tr>\n",
       "      <th>2063</th>\n",
       "      <td>0</td>\n",
       "      <td>Scandal</td>\n",
       "      <td>b peopl say mainstream media liber bias n n el...</td>\n",
       "    </tr>\n",
       "    <tr>\n",
       "      <th>2064</th>\n",
       "      <td>0</td>\n",
       "      <td>Scandal</td>\n",
       "      <td>b think kinsella toronto sun keep mind n nthe ...</td>\n",
       "    </tr>\n",
       "    <tr>\n",
       "      <th>2066</th>\n",
       "      <td>0</td>\n",
       "      <td>Scandal</td>\n",
       "      <td>b work opinion columnist report newspap ethic ...</td>\n",
       "    </tr>\n",
       "    <tr>\n",
       "      <th>2073</th>\n",
       "      <td>0</td>\n",
       "      <td>Scandal</td>\n",
       "      <td>b canadian cdnmedia shock andrewsch hire kinse...</td>\n",
       "    </tr>\n",
       "    <tr>\n",
       "      <th>2074</th>\n",
       "      <td>0</td>\n",
       "      <td>Economy</td>\n",
       "      <td>b canadian pay telfordk pmo spew rubbish amp d...</td>\n",
       "    </tr>\n",
       "    <tr>\n",
       "      <th>2076</th>\n",
       "      <td>0</td>\n",
       "      <td>Healthcare</td>\n",
       "      <td>b mani peopl want guy pm nhe proven underhand ...</td>\n",
       "    </tr>\n",
       "    <tr>\n",
       "      <th>2079</th>\n",
       "      <td>0</td>\n",
       "      <td>Scandal</td>\n",
       "      <td>b thejagmeetsingh next prime minist canada n n...</td>\n",
       "    </tr>\n",
       "    <tr>\n",
       "      <th>2082</th>\n",
       "      <td>0</td>\n",
       "      <td>Tell lies</td>\n",
       "      <td>b would mckenna think chr xc3 xa9tien could sa...</td>\n",
       "    </tr>\n",
       "    <tr>\n",
       "      <th>2091</th>\n",
       "      <td>0</td>\n",
       "      <td>Scandal</td>\n",
       "      <td>b woke news appar total ok hire firm slander d...</td>\n",
       "    </tr>\n",
       "    <tr>\n",
       "      <th>2092</th>\n",
       "      <td>0</td>\n",
       "      <td>Tell lies</td>\n",
       "      <td>b wonder scheer campaign xe2 x80 x99t take que...</td>\n",
       "    </tr>\n",
       "    <tr>\n",
       "      <th>2096</th>\n",
       "      <td>0</td>\n",
       "      <td>Economy</td>\n",
       "      <td>b would mr scheer ask thought harper decis cut...</td>\n",
       "    </tr>\n",
       "    <tr>\n",
       "      <th>2097</th>\n",
       "      <td>0</td>\n",
       "      <td>Scandal</td>\n",
       "      <td>b xe2 x80 x99t better polit parti xe2 x80 x9cd...</td>\n",
       "    </tr>\n",
       "    <tr>\n",
       "      <th>2099</th>\n",
       "      <td>0</td>\n",
       "      <td>Scandal</td>\n",
       "      <td>b wow sheila sound like defam n nimagin think ...</td>\n",
       "    </tr>\n",
       "    <tr>\n",
       "      <th>2102</th>\n",
       "      <td>0</td>\n",
       "      <td>Scandal</td>\n",
       "      <td>b wow horgan sight wonder long would tri bask ...</td>\n",
       "    </tr>\n",
       "    <tr>\n",
       "      <th>2103</th>\n",
       "      <td>0</td>\n",
       "      <td>Tell lies</td>\n",
       "      <td>b wow lot bigger lie insur broker folk elxn201...</td>\n",
       "    </tr>\n",
       "    <tr>\n",
       "      <th>2105</th>\n",
       "      <td>0</td>\n",
       "      <td>Tell lies</td>\n",
       "      <td>b wowser nlook like cbc globe reli liber oper ...</td>\n",
       "    </tr>\n",
       "    <tr>\n",
       "      <th>2106</th>\n",
       "      <td>0</td>\n",
       "      <td>Economy</td>\n",
       "      <td>b wrong n nyou xe2 x80 x99re one use alberta p...</td>\n",
       "    </tr>\n",
       "    <tr>\n",
       "      <th>2108</th>\n",
       "      <td>0</td>\n",
       "      <td>Tell lies</td>\n",
       "      <td>b yay cbckati nice see pushback lie attempt an...</td>\n",
       "    </tr>\n",
       "    <tr>\n",
       "      <th>2112</th>\n",
       "      <td>0</td>\n",
       "      <td>Tell lies</td>\n",
       "      <td>b ye andrewsch stori elxn43 cdnpoli</td>\n",
       "    </tr>\n",
       "    <tr>\n",
       "      <th>2115</th>\n",
       "      <td>0</td>\n",
       "      <td>Economy</td>\n",
       "      <td>b ye liber xe2 x80 x99t get major ndp ask pipe...</td>\n",
       "    </tr>\n",
       "    <tr>\n",
       "      <th>2118</th>\n",
       "      <td>0</td>\n",
       "      <td>Women Reproductive right and Racism</td>\n",
       "      <td>b yet andrew scheer maintain expect us believ ...</td>\n",
       "    </tr>\n",
       "    <tr>\n",
       "      <th>2119</th>\n",
       "      <td>0</td>\n",
       "      <td>Women Reproductive right and Racism</td>\n",
       "      <td>b yet anoth exampl constant danger conserv pos...</td>\n",
       "    </tr>\n",
       "    <tr>\n",
       "      <th>2122</th>\n",
       "      <td>0</td>\n",
       "      <td>Tell lies</td>\n",
       "      <td>b alway tell person good campaign stupid state...</td>\n",
       "    </tr>\n",
       "    <tr>\n",
       "      <th>2124</th>\n",
       "      <td>0</td>\n",
       "      <td>Tell lies</td>\n",
       "      <td>b vote dishonest slander politician alway choo...</td>\n",
       "    </tr>\n",
       "    <tr>\n",
       "      <th>2126</th>\n",
       "      <td>0</td>\n",
       "      <td>Climate Problem</td>\n",
       "      <td>b care limit climatechang wonder parti vote el...</td>\n",
       "    </tr>\n",
       "    <tr>\n",
       "      <th>2128</th>\n",
       "      <td>0</td>\n",
       "      <td>Scandal</td>\n",
       "      <td>b know good enough job smear campaign right an...</td>\n",
       "    </tr>\n",
       "    <tr>\n",
       "      <th>2129</th>\n",
       "      <td>0</td>\n",
       "      <td>Scandal</td>\n",
       "      <td>b miss comment deflect issu answer best respon...</td>\n",
       "    </tr>\n",
       "    <tr>\n",
       "      <th>2131</th>\n",
       "      <td>0</td>\n",
       "      <td>Women Reproductive right and Racism</td>\n",
       "      <td>b yup go reopen abort debat xf0 x9f x98 x8f n ...</td>\n",
       "    </tr>\n",
       "  </tbody>\n",
       "</table>\n",
       "<p>642 rows × 3 columns</p>\n",
       "</div>"
      ],
      "text/plain": [
       "      sentiment                      negative_reason  \\\n",
       "0             0  Women Reproductive right and Racism   \n",
       "2             0                              Economy   \n",
       "4             0                              Economy   \n",
       "9             0                              Scandal   \n",
       "15            0                            Tell lies   \n",
       "19            0                              Scandal   \n",
       "26            0                              Scandal   \n",
       "29            0                            Tell lies   \n",
       "30            0                              Scandal   \n",
       "33            0                              Scandal   \n",
       "34            0                            Privilege   \n",
       "37            0                              Scandal   \n",
       "39            0                              Scandal   \n",
       "40            0                              Economy   \n",
       "41            0                            Tell lies   \n",
       "46            0                            Tell lies   \n",
       "48            0                              Scandal   \n",
       "49            0                            Tell lies   \n",
       "50            0                      Climate Problem   \n",
       "52            0                              Scandal   \n",
       "53            0                           Healthcare   \n",
       "54            0                            Tell lies   \n",
       "55            0                            Tell lies   \n",
       "57            0                              Scandal   \n",
       "59            0                              Scandal   \n",
       "60            0                              Scandal   \n",
       "63            0                              Scandal   \n",
       "65            0                            Tell lies   \n",
       "69            0                            Tell lies   \n",
       "74            0                            Tell lies   \n",
       "...         ...                                  ...   \n",
       "2057          0                            Tell lies   \n",
       "2062          0                              Scandal   \n",
       "2063          0                              Scandal   \n",
       "2064          0                              Scandal   \n",
       "2066          0                              Scandal   \n",
       "2073          0                              Scandal   \n",
       "2074          0                              Economy   \n",
       "2076          0                           Healthcare   \n",
       "2079          0                              Scandal   \n",
       "2082          0                            Tell lies   \n",
       "2091          0                              Scandal   \n",
       "2092          0                            Tell lies   \n",
       "2096          0                              Economy   \n",
       "2097          0                              Scandal   \n",
       "2099          0                              Scandal   \n",
       "2102          0                              Scandal   \n",
       "2103          0                            Tell lies   \n",
       "2105          0                            Tell lies   \n",
       "2106          0                              Economy   \n",
       "2108          0                            Tell lies   \n",
       "2112          0                            Tell lies   \n",
       "2115          0                              Economy   \n",
       "2118          0  Women Reproductive right and Racism   \n",
       "2119          0  Women Reproductive right and Racism   \n",
       "2122          0                            Tell lies   \n",
       "2124          0                            Tell lies   \n",
       "2126          0                      Climate Problem   \n",
       "2128          0                              Scandal   \n",
       "2129          0                              Scandal   \n",
       "2131          0  Women Reproductive right and Racism   \n",
       "\n",
       "                                                   text  \n",
       "0     b rosiebarton instead suggest agre canadian wo...  \n",
       "2     b brantford go cost 94 billion next 4 year ask...  \n",
       "4     b canada taxpay sick amp tire hard earn donat ...  \n",
       "9     b cpckinsellag nlet see receipt pay warren kin...  \n",
       "15    b lyingandi histori answer embarrass question ...  \n",
       "19    b urgent pleas watch video david haskel peopl ...  \n",
       "26    b alternatespunki electionscan e electionson c...  \n",
       "29    b althiaraj ask question hypothet n cdnpoli el...  \n",
       "30    b althiaraj surpris n justintrudeau answer q y...  \n",
       "33    b andrewsch warren jwr yell us new stori invol...  \n",
       "34    b andrewsch life also gotten expens republican...  \n",
       "37    b asestritsyn yvan baker justintrudeau liber p...  \n",
       "39    b baldjam cpc hq investig elxn43 donat petrole...  \n",
       "40    b barkoh crippledu kennuck start basic legal p...  \n",
       "41    b bcrealiti ontarioisproud serious west coast ...  \n",
       "46    b c resist gill godwin name one elect sinc har...  \n",
       "48    b canadiangreen soniafurstenau campaign hire w...  \n",
       "49    b candicemalcolm heshmatalavi well known rafid...  \n",
       "50    b cathmckenna give us greenhous ga reduct stra...  \n",
       "52    b cbcalert andi transpar elect expect transpar...  \n",
       "53    b cbconthecoast coalit gov might get us evid b...  \n",
       "54    b charliekuss roy woodhal nunnya16 yukon stron...  \n",
       "55    b christinainyeg grumpi granni andrewsch began...  \n",
       "57    b costellodaniel1 paola dec1231 zitaastrava ev...  \n",
       "59    b cpc hq candid appar troubl swallow andrewsch...  \n",
       "60    b ctvnew conserv parti spend campaign distanc ...  \n",
       "63    b deceitindrug abblib long daze joannecang gla...  \n",
       "65    b dpalmier sheila copp puglaa janephilpott ref...  \n",
       "69    b electionscan e heyday big money go defend po...  \n",
       "74    b gill godwin andrewsch real name lie constitu...  \n",
       "...                                                 ...  \n",
       "2057  b even support question honesti integr elxn43 ...  \n",
       "2062  b jt show sock know feel good bad sign liber t...  \n",
       "2063  b peopl say mainstream media liber bias n n el...  \n",
       "2064  b think kinsella toronto sun keep mind n nthe ...  \n",
       "2066  b work opinion columnist report newspap ethic ...  \n",
       "2073  b canadian cdnmedia shock andrewsch hire kinse...  \n",
       "2074  b canadian pay telfordk pmo spew rubbish amp d...  \n",
       "2076  b mani peopl want guy pm nhe proven underhand ...  \n",
       "2079  b thejagmeetsingh next prime minist canada n n...  \n",
       "2082  b would mckenna think chr xc3 xa9tien could sa...  \n",
       "2091  b woke news appar total ok hire firm slander d...  \n",
       "2092  b wonder scheer campaign xe2 x80 x99t take que...  \n",
       "2096  b would mr scheer ask thought harper decis cut...  \n",
       "2097  b xe2 x80 x99t better polit parti xe2 x80 x9cd...  \n",
       "2099  b wow sheila sound like defam n nimagin think ...  \n",
       "2102  b wow horgan sight wonder long would tri bask ...  \n",
       "2103  b wow lot bigger lie insur broker folk elxn201...  \n",
       "2105  b wowser nlook like cbc globe reli liber oper ...  \n",
       "2106  b wrong n nyou xe2 x80 x99re one use alberta p...  \n",
       "2108  b yay cbckati nice see pushback lie attempt an...  \n",
       "2112                b ye andrewsch stori elxn43 cdnpoli  \n",
       "2115  b ye liber xe2 x80 x99t get major ndp ask pipe...  \n",
       "2118  b yet andrew scheer maintain expect us believ ...  \n",
       "2119  b yet anoth exampl constant danger conserv pos...  \n",
       "2122  b alway tell person good campaign stupid state...  \n",
       "2124  b vote dishonest slander politician alway choo...  \n",
       "2126  b care limit climatechang wonder parti vote el...  \n",
       "2128  b know good enough job smear campaign right an...  \n",
       "2129  b miss comment deflect issu answer best respon...  \n",
       "2131  b yup go reopen abort debat xf0 x9f x98 x8f n ...  \n",
       "\n",
       "[642 rows x 3 columns]"
      ]
     },
     "execution_count": 248,
     "metadata": {},
     "output_type": "execute_result"
    }
   ],
   "source": [
    "candf3"
   ]
  },
  {
   "cell_type": "code",
   "execution_count": 249,
   "metadata": {},
   "outputs": [
    {
     "data": {
      "text/plain": [
       "<matplotlib.axes._subplots.AxesSubplot at 0x201c6f8bc88>"
      ]
     },
     "execution_count": 249,
     "metadata": {},
     "output_type": "execute_result"
    },
    {
     "data": {
      "image/png": "[encoded data removed]",
      "text/plain": [
       "<Figure size 432x288 with 1 Axes>"
      ]
     },
     "metadata": {
      "needs_background": "light"
     },
     "output_type": "display_data"
    }
   ],
   "source": [
    "candf3['negative_reason'].value_counts().plot(kind='bar')"
   ]
  },
  {
   "cell_type": "markdown",
   "metadata": {},
   "source": [
    "As we can see, the target variable class is heavily imbalanced. Additionally, the two dominant classes \"Scandal\" and \"Tell Lies\" are similar type of reasons. However, those will not be combined into one as it will further increase the imbalance of the dataset. "
   ]
  },
  {
   "cell_type": "code",
   "execution_count": 232,
   "metadata": {},
   "outputs": [
    {
     "data": {
      "text/plain": [
       "0     [b, rosiebarton, instead, suggest, agre, canad...\n",
       "2     [b, brantford, go, cost, 94, billion, next, 4,...\n",
       "4     [b, canada, taxpay, sick, amp, tire, hard, ear...\n",
       "9     [b, cpckinsellag, nlet, see, receipt, pay, war...\n",
       "15    [b, lyingandi, histori, answer, embarrass, que...\n",
       "Name: text, dtype: object"
      ]
     },
     "execution_count": 232,
     "metadata": {},
     "output_type": "execute_result"
    }
   ],
   "source": [
    "# tokenize all the cleaned tweets in our dataset. Tokens are individual terms or words, \n",
    "# and tokenization is the process of splitting a string of text into tokens\n",
    "tokenized_tweet = candf3['text'].apply(lambda x: x.split())\n",
    "tokenized_tweet.head()"
   ]
  },
  {
   "cell_type": "code",
   "execution_count": 233,
   "metadata": {},
   "outputs": [
    {
     "data": {
      "text/plain": [
       "0     [b, rosiebarton, instead, suggest, agr, canadi...\n",
       "2     [b, brantford, go, cost, 94, billion, next, 4,...\n",
       "4     [b, canada, taxpay, sick, amp, tire, hard, ear...\n",
       "9     [b, cpckinsellag, nlet, see, receipt, pay, war...\n",
       "15    [b, lyingandi, histori, answer, embarrass, que...\n",
       "Name: text, dtype: object"
      ]
     },
     "execution_count": 233,
     "metadata": {},
     "output_type": "execute_result"
    }
   ],
   "source": [
    "# Stemming is a rule-based process of stripping the suffixes (“ing”, “ly”, “es”, “s” etc) from a word\n",
    "from nltk.stem.porter import *\n",
    "stemmer = PorterStemmer()\n",
    "\n",
    "tokenized_tweet = tokenized_tweet.apply(lambda x: [stemmer.stem(i) for i in x]) # stemming\n",
    "tokenized_tweet.head()"
   ]
  },
  {
   "cell_type": "code",
   "execution_count": 234,
   "metadata": {},
   "outputs": [
    {
     "name": "stdout",
     "output_type": "stream",
     "text": [
      "  (0, 17)\t1\n",
      "  (0, 130)\t1\n",
      "  (0, 153)\t1\n",
      "  (0, 471)\t1\n",
      "  (0, 707)\t1\n",
      "  (0, 934)\t1\n",
      "  (0, 658)\t1\n",
      "  (0, 371)\t1\n",
      "  (0, 193)\t1\n",
      "  (0, 50)\t1\n",
      "  (0, 881)\t1\n",
      "  (0, 935)\t1\n",
      "  (0, 134)\t1\n",
      "  (0, 36)\t1\n",
      "  (0, 827)\t1\n",
      "  (0, 425)\t1\n",
      "  (0, 710)\t1\n",
      "  (1, 445)\t1\n",
      "  (1, 69)\t1\n",
      "  (1, 995)\t1\n",
      "  (1, 99)\t1\n",
      "  (1, 201)\t1\n",
      "  (1, 130)\t1\n",
      "  (1, 153)\t1\n",
      "  (2, 279)\t1\n",
      "  :\t:\n",
      "  (640, 284)\t1\n",
      "  (640, 940)\t1\n",
      "  (640, 132)\t1\n",
      "  (640, 95)\t1\n",
      "  (640, 695)\t1\n",
      "  (640, 453)\t1\n",
      "  (640, 184)\t1\n",
      "  (640, 478)\t1\n",
      "  (640, 234)\t2\n",
      "  (640, 378)\t1\n",
      "  (640, 398)\t1\n",
      "  (640, 408)\t1\n",
      "  (640, 204)\t1\n",
      "  (640, 53)\t1\n",
      "  (640, 69)\t1\n",
      "  (640, 153)\t1\n",
      "  (641, 954)\t1\n",
      "  (641, 689)\t1\n",
      "  (641, 960)\t1\n",
      "  (641, 227)\t1\n",
      "  (641, 724)\t1\n",
      "  (641, 723)\t1\n",
      "  (641, 972)\t1\n",
      "  (641, 991)\t1\n",
      "  (641, 17)\t1\n"
     ]
    }
   ],
   "source": [
    "# Bag-of-Words features can be easily created using sklearn’s CountVectorizer function. \n",
    "# We will set the parameter max_features = 1000 to select only top 1000 terms ordered by term frequency across the corpus\n",
    "from sklearn.feature_extraction.text import CountVectorizer\n",
    "bow_vectorizer = CountVectorizer(max_df=0.90, min_df=2, max_features=1000, stop_words='english')\n",
    "# bag-of-words feature matrix\n",
    "bow = bow_vectorizer.fit_transform(candf3['text'])\n",
    "print(bow)"
   ]
  },
  {
   "cell_type": "code",
   "execution_count": 235,
   "metadata": {},
   "outputs": [],
   "source": [
    "# TF-IDF works by penalizing the common words by assigning them lower weights while giving \n",
    "# importance to words which are rare in the entire corpus but appear in good numbers\n",
    "from sklearn.feature_extraction.text import TfidfVectorizer\n",
    "tfidf_vectorizer = TfidfVectorizer(max_df=0.90, min_df=2, max_features=1000, stop_words='english')\n",
    "# TF-IDF feature matrix\n",
    "tfidf = tfidf_vectorizer.fit_transform(candf3['text'])"
   ]
  },
  {
   "cell_type": "code",
   "execution_count": 236,
   "metadata": {},
   "outputs": [],
   "source": [
    "# Spliting Data form above reduction dataset\n",
    "from sklearn.model_selection import train_test_split\n",
    "X_train, X_valid, y_train, y_valid = train_test_split(tfidf, candf3['negative_reason'], test_size = 0.3, random_state = 3)"
   ]
  },
  {
   "cell_type": "code",
   "execution_count": 237,
   "metadata": {},
   "outputs": [
    {
     "name": "stdout",
     "output_type": "stream",
     "text": [
      "Logistic Regression accuracy: 59.58549222797927%\n"
     ]
    },
    {
     "name": "stderr",
     "output_type": "stream",
     "text": [
      "C:\\ProgramData\\Anaconda3\\lib\\site-packages\\sklearn\\model_selection\\_search.py:813: DeprecationWarning: The default of the `iid` parameter will change from True to False in version 0.22 and will be removed in 0.24. This will change numeric results when test-set sizes are unequal.\n",
      "  DeprecationWarning)\n",
      "C:\\ProgramData\\Anaconda3\\lib\\site-packages\\sklearn\\linear_model\\logistic.py:432: FutureWarning: Default solver will be changed to 'lbfgs' in 0.22. Specify a solver to silence this warning.\n",
      "  FutureWarning)\n",
      "C:\\ProgramData\\Anaconda3\\lib\\site-packages\\sklearn\\linear_model\\logistic.py:469: FutureWarning: Default multi_class will be changed to 'auto' in 0.22. Specify the multi_class option to silence this warning.\n",
      "  \"this warning.\", FutureWarning)\n"
     ]
    }
   ],
   "source": [
    "from sklearn.linear_model import LogisticRegression\n",
    "from sklearn.model_selection import GridSearchCV\n",
    "from sklearn.metrics import confusion_matrix, accuracy_score, classification_report\n",
    "\n",
    "# taking logistic regression as a final model (stable accuracy on new data)\n",
    "dual=[True,False]\n",
    "max_iter=[100,110,120,130,140]\n",
    "C = [1.0,1.5,2.0,2.5]\n",
    "param_grid = dict(dual=dual,max_iter=max_iter,C=C)\n",
    "\n",
    "#Model hypertune\n",
    "from sklearn.model_selection import GridSearchCV\n",
    "lr = LogisticRegression(penalty='l2')\n",
    "grid = GridSearchCV(estimator=lr, param_grid=param_grid, cv = 3, n_jobs=-1)\n",
    "#Model after tuning\n",
    "grid_result = grid.fit(X_train, y_train)\n",
    "# Summarize results\n",
    "#print(\"Best: %f using %s\" % (grid_result.best_score, grid_result.best_params))\n",
    "\n",
    "# Logistic Regression accuracy after hypertuning\n",
    "prediction_logit_new = grid_result.predict(X_valid)\n",
    "accuracy_scores_logit_new = accuracy_score(y_valid, prediction_logit_new)*100\n",
    "print('Logistic Regression accuracy: {}%'.format(accuracy_scores_logit_new))"
   ]
  },
  {
   "cell_type": "code",
   "execution_count": 238,
   "metadata": {},
   "outputs": [
    {
     "name": "stderr",
     "output_type": "stream",
     "text": [
      "C:\\ProgramData\\Anaconda3\\lib\\site-packages\\sklearn\\metrics\\classification.py:1437: UndefinedMetricWarning: Precision and F-score are ill-defined and being set to 0.0 in labels with no predicted samples.\n",
      "  'precision', 'predicted', average, warn_for)\n"
     ]
    },
    {
     "name": "stdout",
     "output_type": "stream",
     "text": [
      "                                     precision    recall  f1-score   support\n",
      "\n",
      "                    Climate Problem       1.00      0.06      0.12        16\n",
      "                            Economy       0.60      0.23      0.33        13\n",
      "                         Healthcare       0.00      0.00      0.00         2\n",
      "                          Privilege       0.00      0.00      0.00         4\n",
      "                            Scandal       0.64      0.87      0.74        84\n",
      "                         Separation       0.00      0.00      0.00         3\n",
      "                          Tell lies       0.51      0.71      0.60        52\n",
      "Women Reproductive right and Racism       1.00      0.05      0.10        19\n",
      "\n",
      "                           accuracy                           0.60       193\n",
      "                          macro avg       0.47      0.24      0.24       193\n",
      "                       weighted avg       0.64      0.60      0.52       193\n",
      "\n"
     ]
    },
    {
     "data": {
      "image/png": "[encoded data removed]",
      "text/plain": [
       "<Figure size 1080x1296 with 2 Axes>"
      ]
     },
     "metadata": {
      "needs_background": "light"
     },
     "output_type": "display_data"
    }
   ],
   "source": [
    "# check validation statistics (Classification Summary) for TDIDF\n",
    "import scikitplot as skplt\n",
    "print(classification_report(y_valid, prediction_logit_new)) # from confusion matrix Logistics Regression perform well\n",
    "# Plot confusion Matrix\n",
    "skplt.metrics.plot_confusion_matrix(y_valid, prediction_logit_new, figsize=(15, 18))\n",
    "plt.show()"
   ]
  },
  {
   "cell_type": "code",
   "execution_count": 239,
   "metadata": {},
   "outputs": [],
   "source": [
    "# Spliting Data form above reduction dataset\n",
    "from sklearn.model_selection import train_test_split\n",
    "X_train, X_valid, y_train, y_valid = train_test_split(bow, candf3['negative_reason'], test_size = 0.3, random_state = 3)"
   ]
  },
  {
   "cell_type": "code",
   "execution_count": 240,
   "metadata": {},
   "outputs": [
    {
     "name": "stdout",
     "output_type": "stream",
     "text": [
      "Logistic Regression accuracy: 62.17616580310881%\n"
     ]
    },
    {
     "name": "stderr",
     "output_type": "stream",
     "text": [
      "C:\\ProgramData\\Anaconda3\\lib\\site-packages\\sklearn\\model_selection\\_search.py:813: DeprecationWarning: The default of the `iid` parameter will change from True to False in version 0.22 and will be removed in 0.24. This will change numeric results when test-set sizes are unequal.\n",
      "  DeprecationWarning)\n",
      "C:\\ProgramData\\Anaconda3\\lib\\site-packages\\sklearn\\linear_model\\logistic.py:432: FutureWarning: Default solver will be changed to 'lbfgs' in 0.22. Specify a solver to silence this warning.\n",
      "  FutureWarning)\n",
      "C:\\ProgramData\\Anaconda3\\lib\\site-packages\\sklearn\\linear_model\\logistic.py:469: FutureWarning: Default multi_class will be changed to 'auto' in 0.22. Specify the multi_class option to silence this warning.\n",
      "  \"this warning.\", FutureWarning)\n"
     ]
    }
   ],
   "source": [
    "from sklearn.linear_model import LogisticRegression\n",
    "from sklearn.model_selection import GridSearchCV\n",
    "from sklearn.metrics import confusion_matrix, accuracy_score, classification_report\n",
    "\n",
    "# taking logistic regression as a final model (stable accuracy on new data)\n",
    "dual=[True,False]\n",
    "max_iter=[100,110,120,130,140]\n",
    "C = [1.0,1.5,2.0,2.5]\n",
    "param_grid = dict(dual=dual,max_iter=max_iter,C=C)\n",
    "\n",
    "#Model hypertune\n",
    "from sklearn.model_selection import GridSearchCV\n",
    "lr = LogisticRegression(penalty='l2')\n",
    "grid = GridSearchCV(estimator=lr, param_grid=param_grid, cv = 3, n_jobs=-1)\n",
    "#Model after tuning\n",
    "grid_result = grid.fit(X_train, y_train)\n",
    "# Summarize results\n",
    "#print(\"Best: %f using %s\" % (grid_result.best_score, grid_result.best_params))\n",
    "\n",
    "# Logistic Regression accuracy after hypertuning\n",
    "prediction_logit_new = grid_result.predict(X_valid)\n",
    "accuracy_scores_logit_new = accuracy_score(y_valid, prediction_logit_new)*100\n",
    "print('Logistic Regression accuracy: {}%'.format(accuracy_scores_logit_new))"
   ]
  },
  {
   "cell_type": "code",
   "execution_count": 241,
   "metadata": {},
   "outputs": [
    {
     "name": "stderr",
     "output_type": "stream",
     "text": [
      "C:\\ProgramData\\Anaconda3\\lib\\site-packages\\sklearn\\metrics\\classification.py:1437: UndefinedMetricWarning: Precision and F-score are ill-defined and being set to 0.0 in labels with no predicted samples.\n",
      "  'precision', 'predicted', average, warn_for)\n"
     ]
    },
    {
     "name": "stdout",
     "output_type": "stream",
     "text": [
      "                                     precision    recall  f1-score   support\n",
      "\n",
      "                    Climate Problem       0.60      0.19      0.29        16\n",
      "                            Economy       0.42      0.38      0.40        13\n",
      "                         Healthcare       0.00      0.00      0.00         2\n",
      "                          Privilege       0.00      0.00      0.00         4\n",
      "                            Scandal       0.70      0.79      0.74        84\n",
      "                         Separation       0.00      0.00      0.00         3\n",
      "                          Tell lies       0.54      0.71      0.61        52\n",
      "Women Reproductive right and Racism       0.75      0.47      0.58        19\n",
      "\n",
      "                           accuracy                           0.62       193\n",
      "                          macro avg       0.38      0.32      0.33       193\n",
      "                       weighted avg       0.60      0.62      0.60       193\n",
      "\n"
     ]
    },
    {
     "data": {
      "image/png": "[encoded data removed]",
      "text/plain": [
       "<Figure size 1080x1296 with 2 Axes>"
      ]
     },
     "metadata": {
      "needs_background": "light"
     },
     "output_type": "display_data"
    }
   ],
   "source": [
    "# check validation statistics (Classification Summary) for Bag of Words\n",
    "import scikitplot as skplt\n",
    "print(classification_report(y_valid, prediction_logit_new)) # from confusion matrix Logistics Regression perform well\n",
    "# Plot confusion Matrix\n",
    "skplt.metrics.plot_confusion_matrix(y_valid, prediction_logit_new, figsize=(15, 18))\n",
    "plt.show()"
   ]
  },
  {
   "cell_type": "markdown",
   "metadata": {},
   "source": [
    "As aforementioned, sentiment analysis is best used when there is one or multiple moods that can be assignmed as part of the sentiment rather than just binary assignment of positive or negative. Most real life election sentiment analysis of social media involves these mood labels which helps better understand the depth of sentiment of the voter and reduces the subjectivity of the human assigning the binary sentiment reading the tweet.\n",
    "\n",
    "Therefore, it is critical that the training model is well balanced and the negative_reason cateogires are carefully determined to minimize any potential overlap in their meaning. As we can see from the confusion matrix above, \"Scandal\" is often confused with \"Tell Lies\" as we predicted earlier and causes the highest degree of error. If we were to combine these two into one target variable, it will definitely improve the accuracy of the model but will lead to a heavily imbalanced data set. "
   ]
  }
 ],
 "metadata": {
  "colab": {
   "collapsed_sections": [],
   "name": "Sentiment_Analysis.ipynb",
   "provenance": []
  },
  "kernelspec": {
   "display_name": "Python 3",
   "language": "python",
   "name": "python3"
  },
  "language_info": {
   "codemirror_mode": {
    "name": "ipython",
    "version": 3
   },
   "file_extension": ".py",
   "mimetype": "text/x-python",
   "name": "python",
   "nbconvert_exporter": "python",
   "pygments_lexer": "ipython3",
   "version": "3.7.3"
  }
 },
 "nbformat": 4,
 "nbformat_minor": 1
}
